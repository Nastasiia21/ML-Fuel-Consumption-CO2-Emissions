{
  "nbformat": 4,
  "nbformat_minor": 0,
  "metadata": {
    "colab": {
      "private_outputs": true,
      "provenance": []
    },
    "kernelspec": {
      "name": "python3",
      "display_name": "Python 3"
    },
    "language_info": {
      "name": "python"
    }
  },
  "cells": [
    {
      "cell_type": "code",
      "execution_count": null,
      "metadata": {
        "id": "7a6ac1d4"
      },
      "outputs": [],
      "source": [
        "import os\n",
        "import warnings\n",
        "import numpy as np\n",
        "import pandas as pd\n",
        "import seaborn as sns\n",
        "import matplotlib.pyplot as plt\n",
        "warnings.filterwarnings('ignore')"
      ]
    },
    {
      "cell_type": "markdown",
      "source": [
        "# Utilizing Big Data Analytics for the Assessment and Prediction of Fuel Consumption and CO2 Emissions in Automobiles"
      ],
      "metadata": {
        "id": "in9WNfKSXPaA"
      }
    },
    {
      "cell_type": "code",
      "execution_count": null,
      "metadata": {
        "id": "90f0b40f"
      },
      "outputs": [],
      "source": [
        "data_dir = './Data/'"
      ]
    },
    {
      "cell_type": "code",
      "source": [
        "def read_datasets(data_dir):\n",
        "    \"\"\"\n",
        "    Reads CSV files from the specified directory and concatenates them into a single DataFrame.\n",
        "\n",
        "    Parameters:\n",
        "    - data_dir (str): The directory containing CSV files.\n",
        "\n",
        "    Returns:\n",
        "    - pd.DataFrame: A DataFrame containing the concatenated data from all CSV files.\n",
        "    \"\"\"\n",
        "    # List all files in the specified directory\n",
        "    files = os.listdir(data_dir)\n",
        "\n",
        "    # Initialize an empty list to store DataFrames\n",
        "    df = []\n",
        "\n",
        "    # Iterate through each file in the directory\n",
        "    for file in files:\n",
        "        # Check if the file has a CSV extension\n",
        "        if file.split('.')[1] == 'csv':\n",
        "            # Read the CSV file into a DataFrame and append it to the list\n",
        "            tmp = pd.read_csv(os.path.join(data_dir, file), encoding='latin-1')\n",
        "            df.append(tmp)\n",
        "\n",
        "    # Concatenate all DataFrames in the list into a single DataFrame\n",
        "    df = pd.concat(df)\n",
        "\n",
        "    # Print the size of the concatenated DataFrame\n",
        "    print('dataset size; ( rows:{}, columns:{} )'.format(df.shape[0], df.shape[1]))\n",
        "\n",
        "    # Return the concatenated DataFrame\n",
        "    return df"
      ],
      "metadata": {
        "id": "cU08RJBYfIzS"
      },
      "execution_count": null,
      "outputs": []
    },
    {
      "cell_type": "code",
      "execution_count": null,
      "metadata": {
        "scrolled": true,
        "id": "ed5200f7"
      },
      "outputs": [],
      "source": [
        "df = read_datasets(data_dir)\n",
        "df.head()"
      ]
    },
    {
      "cell_type": "code",
      "execution_count": null,
      "metadata": {
        "id": "2d9e1588"
      },
      "outputs": [],
      "source": [
        "# store the combined dataset\n",
        "#df.to_csv('fuel_consumption.csv', index=False)"
      ]
    },
    {
      "cell_type": "markdown",
      "source": [
        "# Descriptive Statistical Analysis"
      ],
      "metadata": {
        "id": "izZ0hiYESHjE"
      }
    },
    {
      "cell_type": "markdown",
      "source": [
        "## Compare various vehicles based on their fuel consumption and CO2 emissions to identify patterns and outliers."
      ],
      "metadata": {
        "id": "VAg_SloWTrSl"
      }
    },
    {
      "cell_type": "code",
      "source": [
        "df.describe(include = object)"
      ],
      "metadata": {
        "id": "-8NtwSvmlc0-"
      },
      "execution_count": null,
      "outputs": []
    },
    {
      "cell_type": "code",
      "execution_count": null,
      "metadata": {
        "id": "5e5f580e"
      },
      "outputs": [],
      "source": [
        "# Convert column values to a specified letter case for Consistency.\n",
        "df['Make'] = df['Make'].str.title()\n",
        "df['Model'] = df['Model'].str.title()\n",
        "df['Vehicle class'] = df['Vehicle class'].str.title()\n",
        "df['Transmission'] = df['Transmission'].str.upper()\n",
        "df['Fuel type'] = df['Fuel type'].str.upper()"
      ]
    },
    {
      "cell_type": "code",
      "execution_count": null,
      "metadata": {
        "id": "dbb5ab2d"
      },
      "outputs": [],
      "source": [
        "# Define a dictionary mapping old column names to new column names\n",
        "column_names = {\n",
        "    'Model year': 'year',\n",
        "    'Make': 'make',\n",
        "    'Model': 'model',\n",
        "    'Vehicle class': 'vehicle_class',\n",
        "    'Engine size (L)': 'engine_size',\n",
        "    'Cylinders': 'cylinder_count',\n",
        "    'Transmission': 'transmission_type',\n",
        "    'Fuel type': 'fuel_type',\n",
        "    'City (L/100 km)': 'city_fuel_consumption',\n",
        "    'Highway (L/100 km)': 'highway_fuel_consumption',\n",
        "    'Combined (L/100 km)': 'combined_fuel_consumption',\n",
        "    'Combined (mpg)': 'combined_fuel_efficiency_mpg',\n",
        "    'CO2 emissions (g/km)': 'co2_emissions',\n",
        "}\n",
        "\n",
        "# Use the rename() method to rename columns using the dictionary,\n",
        "# specifying axis=1 to indicate column names, and inplace=True to modify the DataFrame in place\n",
        "df.rename(column_names, axis=1, inplace=True)"
      ]
    },
    {
      "cell_type": "code",
      "source": [
        "#List of features of interest\n",
        "features_of_interest = [\n",
        "\n",
        "    'engine_size', 'cylinder_count', 'city_fuel_consumption',\n",
        "\n",
        "    'highway_fuel_consumption','combined_fuel_consumption','co2_emissions', 'CO2 rating', 'Smog rating'\n",
        "\n",
        "]\n",
        "\n",
        "# Calculate descriptive statistics only for the features of interest\n",
        "\n",
        "descriptive_stats = df[features_of_interest].describe()\n",
        "\n",
        "# Add variance to the descriptive statistics\n",
        "\n",
        "descriptive_stats.loc['var'] = df[features_of_interest].var()\n",
        "\n",
        "# Drop the percentiles\n",
        "\n",
        "descriptive_stats = descriptive_stats.drop(['25%', '50%', '75%'], errors='ignore')\n",
        "\n",
        "# Reorder the rows to match the requested order\n",
        "\n",
        "desired_order = ['mean', 'std', 'min', 'max', 'var']\n",
        "\n",
        "descriptive_stats = descriptive_stats.reindex(desired_order)\n",
        "\n",
        "# Round the descriptive statistics to three decimal places\n",
        "\n",
        "descriptive_stats_rounded = descriptive_stats.round(3)\n",
        "\n",
        "# Transpose the table to have rows as columns and vice-versa\n",
        "\n",
        "descriptive_stats_transposed = descriptive_stats_rounded.T\n",
        "\n",
        "# Correcting column names to match the user's image\n",
        "\n",
        "descriptive_stats_transposed.columns = ['Mean', 'Standard Deviation', 'Min', 'Max', 'Variance']\n",
        "\n",
        "# Print the DataFrame to display the table\n",
        "\n",
        "print(descriptive_stats_transposed)"
      ],
      "metadata": {
        "id": "A85CqZKWK5Zs"
      },
      "execution_count": null,
      "outputs": []
    },
    {
      "cell_type": "markdown",
      "source": [
        "## Contrast the fuel consumption and CO2 emissions between light-and heavy-duty vehicles to understand their environmental impact."
      ],
      "metadata": {
        "id": "FwpzVs_IUYZU"
      }
    },
    {
      "cell_type": "code",
      "execution_count": null,
      "metadata": {
        "id": "39650de8"
      },
      "outputs": [],
      "source": [
        "# Light-duty vehicle classes\n",
        "light_duty_classes = ['Compact', 'Subcompact', 'Minicompact', 'Two-Seater', 'Sport Utility Vehicle: Small',\n",
        "                      'Station Wagon: Small', 'Station Wagon: Mid-Size', 'Mid-Size']\n",
        "\n",
        "# Heavy-duty vehicle classes\n",
        "heavy_duty_classes = ['Pickup Truck: Standard', 'Pickup Truck: Small', 'Van: Cargo', 'Minivan',\n",
        "                      'Sport Utility Vehicle: Standard', 'Sport Utility Vehicle',\n",
        "                      'Van: Passenger', 'Special Purpose Vehicle', 'Full-Size']"
      ]
    },
    {
      "cell_type": "code",
      "execution_count": null,
      "metadata": {
        "id": "80286f5e"
      },
      "outputs": [],
      "source": [
        "def make_vehicle_class_group(vehicle_class):\n",
        "    \"\"\"\n",
        "    Determine the vehicle class group based on the given vehicle class.\n",
        "\n",
        "    Parameters:\n",
        "    - vehicle_class (str): The vehicle class to categorize.\n",
        "\n",
        "    Returns:\n",
        "    - str: The vehicle class group ('light duty' or 'heavy duty').\n",
        "    \"\"\"\n",
        "    # Check if the vehicle class is in the list of light duty classes\n",
        "    if vehicle_class in light_duty_classes:\n",
        "        return 'light duty'  # Return 'light duty' if it is\n",
        "    # Check if the vehicle class is in the list of heavy duty classes\n",
        "    elif vehicle_class in heavy_duty_classes:\n",
        "        return 'heavy duty'  # Return 'heavy duty' if it is"
      ]
    },
    {
      "cell_type": "code",
      "execution_count": null,
      "metadata": {
        "id": "dda6e57e"
      },
      "outputs": [],
      "source": [
        "# Define a new column 'vehicle_class_group' in the DataFrame,\n",
        "# and populate it with the result of applying the make_vehicle_class_group function to each value in the 'vehicle_class' column.\n",
        "df['vehicle_class_group'] = df['vehicle_class'].apply(make_vehicle_class_group)"
      ]
    },
    {
      "cell_type": "code",
      "source": [
        "def plot_vehicle_class_group(col, x_label, ax):\n",
        "    \"\"\"\n",
        "    Plot a histogram showing the distribution of a particular feature ('col')\n",
        "    across vehicle class groups ('light duty' and 'heavy duty').\n",
        "\n",
        "    Parameters:\n",
        "    - col (str): The column in the DataFrame to plot.\n",
        "    - x_label (str): The label for the x-axis.\n",
        "    - ax (matplotlib.axes.Axes): The axes to plot on.\n",
        "\n",
        "    Returns:\n",
        "    None\n",
        "    \"\"\"\n",
        "    # Calculate mean values for each group\n",
        "    mean_light = df[df['vehicle_class_group'] == 'light duty'][col].mean()\n",
        "    mean_heavy = df[df['vehicle_class_group'] == 'heavy duty'][col].mean()\n",
        "\n",
        "    # Add vertical lines for the means\n",
        "    ax.axvline(mean_light, color='blue', linestyle='dashed', linewidth=2, label='Light Duty Mean')\n",
        "    ax.axvline(mean_heavy, color='orange', linestyle='dashed', linewidth=2, label='Heavy Duty Mean')\n",
        "\n",
        "    # Plot the histogram\n",
        "    sns.histplot(data=df, x=col, hue='vehicle_class_group', ax=ax, palette={'light duty': 'blue', 'heavy duty': 'orange'})\n",
        "\n",
        "    # Set the titles and labels\n",
        "    ax.set_title('{} per Vehicle Group'.format(x_label), fontsize=14)\n",
        "    ax.set_xlabel(x_label, fontsize=12)\n",
        "    ax.set_ylabel('Count')\n",
        "\n",
        "    # Update legend to reflect light duty and heavy duty vehicles\n",
        "    ax.legend(title='Vehicle Group', fontsize=12, title_fontsize=12)\n",
        "\n",
        "# Create a figure with two subplots side by side\n",
        "fig, axes = plt.subplots(1, 2, figsize=(18, 4))\n",
        "\n",
        "# Plot each graph on its respective subplot with the new labels\n",
        "plot_vehicle_class_group('combined_fuel_consumption', 'Combined Fuel Consumption (L/100km)', axes[0])\n",
        "plot_vehicle_class_group('co2_emissions', 'CO2 Emissions (g/km)', axes[1])\n",
        "\n",
        "# Adjust subplot spacing to bring the plots closer together\n",
        "plt.subplots_adjust(wspace=0.1)\n",
        "\n",
        "# Display the plot\n",
        "plt.show()"
      ],
      "metadata": {
        "id": "Qg2WUjMV9Rms"
      },
      "execution_count": null,
      "outputs": []
    },
    {
      "cell_type": "code",
      "source": [
        "# Count the number of entries for each car make\n",
        "make_counts = df['make'].value_counts()\n",
        "\n",
        "# Find the make with the most entries and its count\n",
        "most_common_make = make_counts.idxmax()\n",
        "num_entries_most_common = make_counts[most_common_make]\n",
        "\n",
        "# Find the make with the least entries and its count\n",
        "least_common_make = make_counts.idxmin()\n",
        "num_entries_least_common = make_counts[least_common_make]\n",
        "\n",
        "# Print the results\n",
        "print(f\"The make with the most entries in the dataset is: {most_common_make} with {num_entries_most_common} vehicles.\")\n",
        "print(f\"The make with the least entries in the dataset is: {least_common_make} with {num_entries_least_common} vehicles.\")\n"
      ],
      "metadata": {
        "id": "CoXcAeNusFFW"
      },
      "execution_count": null,
      "outputs": []
    },
    {
      "cell_type": "code",
      "source": [
        "# Sorting the make_counts in alphabetical order\n",
        "sorted_make_counts = make_counts.sort_index()\n",
        "\n",
        "# Plotting the bar chart\n",
        "plt.figure(figsize=(14, 6))\n",
        "sorted_make_counts.plot(kind='bar', color=plt.cm.viridis(np.linspace(0, 1, len(sorted_make_counts))))\n",
        "plt.title('Number of Vehicles by Brand')\n",
        "plt.xlabel('Brand')\n",
        "plt.ylabel('Number of Vehicles')\n",
        "plt.xticks(rotation=45, ha='right')\n",
        "plt.show()"
      ],
      "metadata": {
        "id": "Nc71et6B1lk2"
      },
      "execution_count": null,
      "outputs": []
    },
    {
      "cell_type": "code",
      "execution_count": null,
      "metadata": {
        "id": "33a67390"
      },
      "outputs": [],
      "source": [
        "# Create a new column 'total_fuel_consumption' in the DataFrame by adding 'city_fuel_consumption' and 'highway_fuel_consumption'\n",
        "df['total_fuel_consumption'] = df['city_fuel_consumption'] + df['highway_fuel_consumption']\n",
        "\n",
        "# Note:\n",
        "# This line of code calculates the total fuel consumption by adding the city and highway fuel consumption for each row in the DataFrame.\n",
        "# The result is stored in a new column named 'total_fuel_consumption'."
      ]
    },
    {
      "cell_type": "code",
      "execution_count": null,
      "metadata": {
        "id": "e7c266ec"
      },
      "outputs": [],
      "source": [
        "def compare_col_by_brand(col='total_fuel_consumption', arrange='top', n=5, ax=None):\n",
        "    \"\"\"\n",
        "    Compare a specified column ('col') for top or bottom 'n' brands based on their average value,\n",
        "    and visualize the comparison using a bar plot.\n",
        "\n",
        "    Parameters:\n",
        "    - col (str): The column in the DataFrame to compare. Defaults to 'total_fuel_consumption'.\n",
        "    - arrange (str): Specifies whether to compare the top or bottom 'n' brands. Defaults to 'top'.\n",
        "    - n (int): The number of brands to compare. Defaults to 5.\n",
        "    - ax (matplotlib.axes.Axes): The axes to plot on. If None, a new figure and axes will be created.\n",
        "\n",
        "    Returns:\n",
        "    None\n",
        "    \"\"\"\n",
        "    # Determine sorting order based on 'arrange' parameter\n",
        "    if arrange == 'top':\n",
        "        asc = False  # Sort in descending order for top 'n' brands\n",
        "    elif arrange == 'bottom':\n",
        "        asc = True   # Sort in ascending order for bottom 'n' brands\n",
        "\n",
        "    # Group by brand (make) and compute the average value of the specified column for each brand\n",
        "    total_col_by_brand = df.groupby('make')[col].mean().sort_values(ascending=asc).head(n)\n",
        "\n",
        "    # If ax parameter is not provided, create a new figure and axes\n",
        "    if ax is None:\n",
        "        fig, ax = plt.subplots(figsize=(12, 6))\n",
        "\n",
        "    # Define a color palette for the bars\n",
        "    colors = sns.color_palette(\"Set2\")\n",
        "\n",
        "    # Plot the bar chart\n",
        "    total_col_by_brand.plot(kind='bar', ax=ax, color=colors)\n",
        "\n",
        "    # Format column name for better readability in the plot title\n",
        "    col_str = ' '.join(col.split('_')).title()\n",
        "\n",
        "    # Set title, labels, and tick labels for the plot\n",
        "    ax.set_title('{} {} {} by Brand'.format(arrange.title(), n, col_str))\n",
        "    ax.set_xlabel('Brand')\n",
        "    ax.set_ylabel(col_str)\n",
        "    ax.set_xticklabels(total_col_by_brand.index, rotation=0)"
      ]
    },
    {
      "cell_type": "code",
      "execution_count": null,
      "metadata": {
        "scrolled": false,
        "id": "e12e2672"
      },
      "outputs": [],
      "source": [
        "# Create a figure with two subplots side by side\n",
        "fig, axes = plt.subplots(nrows=1, ncols=2, figsize=(12, 5))\n",
        "\n",
        "# Plot the top 'n' brands for total fuel consumption on the first subplot (axes[0])\n",
        "compare_col_by_brand(arrange='top', ax=axes[0])\n",
        "\n",
        "# Plot the bottom 'n' brands for total fuel consumption on the second subplot (axes[1])\n",
        "compare_col_by_brand(arrange='bottom', ax=axes[1])\n",
        "\n",
        "# Note:\n",
        "# The compare_col_by_brand function is called twice, each time specifying different arrangements ('top' and 'bottom').\n",
        "# The subplots are arranged side by side using nrows=1 and ncols=2 in the plt.subplots() function.\n",
        "# The figsize parameter sets the size of the entire figure.\n",
        "# Each subplot is passed the corresponding axis (axes[0] and axes[1]) to plot on."
      ]
    },
    {
      "cell_type": "code",
      "execution_count": null,
      "metadata": {
        "id": "SQUYwb5_4mIS"
      },
      "outputs": [],
      "source": [
        "def compare_col_by_brand(col='co2_emissions', arrange='top', n=5, ax=None):\n",
        "    \"\"\"\n",
        "    Compare a specified column ('col') for top or bottom 'n' brands based on their average value,\n",
        "    and visualize the comparison using a bar plot.\n",
        "\n",
        "    Parameters:\n",
        "    - col (str): The column in the DataFrame to compare. Defaults to 'co2_emissions'.\n",
        "    - arrange (str): Specifies whether to compare the top or bottom 'n' brands. Defaults to 'top'.\n",
        "    - n (int): The number of brands to compare. Defaults to 5.\n",
        "    - ax (matplotlib.axes.Axes): The axes to plot on. If None, a new figure and axes will be created.\n",
        "\n",
        "    Returns:\n",
        "    None\n",
        "    \"\"\"\n",
        "    # Determine sorting order based on 'arrange' parameter\n",
        "    if arrange == 'top':\n",
        "        asc = False  # Sort in descending order for top 'n' brands\n",
        "    elif arrange == 'bottom':\n",
        "        asc = True   # Sort in ascending order for bottom 'n' brands\n",
        "\n",
        "    # Group by brand (make) and compute the average value of the specified column for each brand\n",
        "    total_col_by_brand = df.groupby('make')[col].mean().sort_values(ascending=asc).head(n)\n",
        "\n",
        "    # If ax parameter is not provided, create a new figure and axes\n",
        "    if ax is None:\n",
        "        fig, ax = plt.subplots(figsize=(12, 6))\n",
        "\n",
        "    # Define a color palette for the bars\n",
        "    colors = sns.color_palette(\"Set2\")\n",
        "\n",
        "    # Plot the bar chart\n",
        "    total_col_by_brand.plot(kind='bar', ax=ax, color=colors)\n",
        "\n",
        "    # Format column name for better readability in the plot title\n",
        "    col_str = ' '.join(col.split('_')).title()\n",
        "\n",
        "    # Set title, labels, and tick labels for the plot\n",
        "    ax.set_title('{} {} {} by Brand'.format(arrange.title(), n, col_str))\n",
        "    ax.set_xlabel('Brand')\n",
        "    ax.set_ylabel(col_str)\n",
        "    ax.set_xticklabels(total_col_by_brand.index, rotation=0)"
      ]
    },
    {
      "cell_type": "code",
      "execution_count": null,
      "metadata": {
        "id": "5a7487a1"
      },
      "outputs": [],
      "source": [
        "# Group by brand (make) and compute the average fuel consumption for each car make\n",
        "total_co2_by_brand = df.groupby('make')['co2_emissions'].mean().sort_values(ascending=False)"
      ]
    },
    {
      "cell_type": "code",
      "execution_count": null,
      "metadata": {
        "scrolled": false,
        "id": "1ab902b4"
      },
      "outputs": [],
      "source": [
        "# Create a figure with two subplots side by side\n",
        "fig, axes = plt.subplots(nrows=1, ncols=2, figsize=(12, 5))\n",
        "\n",
        "# Plot the top 'n' brands for CO2 emissions on the first subplot (axes[0])\n",
        "compare_col_by_brand(col='co2_emissions', arrange='top', ax=axes[0])\n",
        "\n",
        "# Plot the bottom 'n' brands for CO2 emissions on the second subplot (axes[1])\n",
        "compare_col_by_brand(col='co2_emissions', arrange='bottom', ax=axes[1])\n",
        "\n",
        "# Note:\n",
        "# The compare_col_by_brand function is called twice, each time specifying different arrangements ('top' and 'bottom')\n",
        "# and the column 'co2_emissions' is explicitly passed to ensure it's plotting CO2 emissions.\n",
        "# The subplots are arranged side by side using nrows=1 and ncols=2 in the plt.subplots() function.\n",
        "# The figsize parameter sets the size of the entire figure.\n",
        "# Each subplot is passed the corresponding axis (axes[0] and axes[1]) to plot on."
      ]
    },
    {
      "cell_type": "code",
      "source": [
        "# Filter out entries with missing CO2 rating values\n",
        "filtered_df = df.dropna(subset=['CO2 rating'])\n",
        "# Group by brand (make) and compute the average CO2 rating for each car make\n",
        "average_co2_rating_by_brand = filtered_df.groupby('make')['CO2 rating'].mean().sort_values(ascending=False)"
      ],
      "metadata": {
        "id": "60m23ILlKREZ"
      },
      "execution_count": null,
      "outputs": []
    },
    {
      "cell_type": "code",
      "execution_count": null,
      "metadata": {
        "scrolled": false,
        "id": "7SMIMpFpMvmL"
      },
      "outputs": [],
      "source": [
        "# Create a figure with two subplots side by side\n",
        "fig, axes = plt.subplots(nrows=1, ncols=2, figsize=(12, 5))\n",
        "\n",
        "# Plot the top 'n' brands for CO2 rating on the first subplot (axes[0])\n",
        "compare_col_by_brand(col='CO2 rating', arrange='top', ax=axes[0])\n",
        "\n",
        "# Plot the bottom 'n' brands for CO2 rating on the second subplot (axes[1])\n",
        "compare_col_by_brand(col='CO2 rating', arrange='bottom', ax=axes[1])\n",
        "\n",
        "# Note:\n",
        "# The compare_col_by_brand function is called twice, each time specifying different arrangements ('top' and 'bottom')\n",
        "# and the column 'CO2 rating' is explicitly passed to ensure it's plotting CO2 ratings.\n",
        "# The subplots are arranged side by side using nrows=1 and ncols=2 in the plt.subplots() function.\n",
        "# The figsize parameter sets the size of the entire figure.\n",
        "# Each subplot is passed the corresponding axis (axes[0] and axes[1]) to plot on."
      ]
    },
    {
      "cell_type": "code",
      "source": [
        "# Filter out entries with missing 'Smog rating' values and create a new DataFrame\n",
        "filtered_df = df.dropna(subset=['Smog rating'])\n",
        "\n",
        "# Group by brand (make) and compute the average 'Smog rating' for each car make\n",
        "average_co2_rating_by_brand = filtered_df.groupby('make')['Smog rating'].mean().sort_values(ascending=False)\n",
        "\n",
        "# Note:\n",
        "# - Missing values in the 'Smog rating' column are removed using dropna(), and a new DataFrame 'filtered_df' is created.\n",
        "# - Then, the new DataFrame is grouped by the 'make' column, and the mean 'Smog rating' for each brand is computed.\n",
        "# - The results are sorted in descending order of the average 'Smog rating' for visualization purposes."
      ],
      "metadata": {
        "id": "0yRp4RL1Qfox"
      },
      "execution_count": null,
      "outputs": []
    },
    {
      "cell_type": "code",
      "execution_count": null,
      "metadata": {
        "scrolled": false,
        "id": "u1M2df_IQ5Gr"
      },
      "outputs": [],
      "source": [
        "# Create a figure with two subplots side by side\n",
        "fig, axes = plt.subplots(nrows=1, ncols=2, figsize=(12, 5))\n",
        "\n",
        "# Plot the top 'n' brands for Smog rating on the first subplot (axes[0])\n",
        "compare_col_by_brand(col='Smog rating', arrange='top', ax=axes[0])\n",
        "\n",
        "# Plot the bottom 'n' brands for Smog rating on the second subplot (axes[1])\n",
        "compare_col_by_brand(col='Smog rating', arrange='bottom', ax=axes[1])\n",
        "\n",
        "# Note:\n",
        "# - The compare_col_by_brand function is called twice to plot the top and bottom 'n' brands for Smog rating.\n",
        "# - Subplots are arranged side by side using nrows=1 and ncols=2 in plt.subplots() function.\n",
        "# - figsize parameter sets the size of the entire figure.\n",
        "# - Each subplot is passed the corresponding axis (axes[0] and axes[1]) to plot on."
      ]
    },
    {
      "cell_type": "code",
      "source": [
        "def plot_top_bottom_side_by_side_horizontal(df, agg_cols, title, ylabel, figsize=(10, 4)):\n",
        "    \"\"\"\n",
        "    Plot the bottom and top 3 for specified aggregated columns side by side in a horizontal layout,\n",
        "    with smaller size and in ascending order.\n",
        "\n",
        "    Parameters:\n",
        "    - df (pd.DataFrame): The DataFrame containing the data.\n",
        "    - agg_cols (list of str): List of columns to aggregate and plot mean values for.\n",
        "    - title (str): Title for the plots.\n",
        "    - ylabel (list of str): Labels for the y-axis for each plot.\n",
        "    - figsize (tuple): Figure size.\n",
        "    \"\"\"\n",
        "\n",
        "    # Create subplots with specified number of columns (equal to the number of agg_cols)\n",
        "    fig, axs = plt.subplots(1, len(agg_cols), figsize=figsize)\n",
        "\n",
        "    # Define color palette\n",
        "    colors = sns.color_palette(\"husl\", n_colors=6)\n",
        "\n",
        "    # Iterate over each aggregated column\n",
        "    for i, column in enumerate(agg_cols):\n",
        "        # Ensure 'model' is a string\n",
        "        df['model'] = df['model'].astype(str)\n",
        "\n",
        "        # Calculate bottom and top 3 and combine\n",
        "        bottom_3 = df.sort_values(by=column, ascending=True).head(3)\n",
        "        top_3 = df.sort_values(by=column, ascending=False).head(3)\n",
        "        combined = pd.concat([bottom_3, top_3])\n",
        "\n",
        "        # Sort combined data in ascending order\n",
        "        combined = combined.sort_values(by=column, ascending=True)\n",
        "\n",
        "        # Plot in a horizontal layout with bar chart on the x-axis\n",
        "        ax = axs[i]  # Select the current subplot\n",
        "        sns.barplot(x='model', y=column, data=combined, ax=ax, palette=colors, orient='v')  # Plot bar chart\n",
        "        ax.set_title(f'{title[i]}')  # Set title\n",
        "        ax.set_xlabel('Model')  # Set x-axis label\n",
        "        ax.set_ylabel(ylabel[i])  # Set y-axis label\n",
        "        ax.set_xticklabels(combined['model'], rotation=45, ha='right')  # Adjust x-axis labels for better readability\n",
        "\n",
        "    plt.tight_layout()  # Adjust layout\n",
        "    plt.show()  # Show the plot\n",
        "\n",
        "# Call the function\n",
        "average_by_model = df.groupby('model').agg({'total_fuel_consumption': 'mean', 'co2_emissions': 'mean'}).reset_index()\n",
        "plot_top_bottom_side_by_side_horizontal(\n",
        "    average_by_model,\n",
        "    ['total_fuel_consumption', 'co2_emissions'],  # Specify columns to plot\n",
        "    title=['Bottom and Top 3 Models for Fuel Consumption', 'Bottom and Top 3 Models for CO2 Emissions'],  # Set titles\n",
        "    ylabel=['Fuel Consumption (L/100 km)', 'CO2 Emissions (g/m)'],  # Set y-axis labels\n",
        "    figsize=(10, 4)  # Set figure size\n",
        ")"
      ],
      "metadata": {
        "id": "tUOlieHO1OpA"
      },
      "execution_count": null,
      "outputs": []
    },
    {
      "cell_type": "code",
      "source": [
        "def plot_top_bottom_by_vehicle_class_side_by_side(df, agg_cols, group_col, n=3, figsize=(12, 6)):\n",
        "    \"\"\"\n",
        "    Plot the top and bottom n vehicle classes for specified aggregated columns side by side in ascending order.\n",
        "\n",
        "    Parameters:\n",
        "    - df (pd.DataFrame): The DataFrame containing the data.\n",
        "    - agg_cols (list of str): List of columns to aggregate and plot mean values for.\n",
        "    - group_col (str): The column to use for grouping (vehicle class).\n",
        "    - n (int): Number of top or bottom vehicle classes to display.\n",
        "    - figsize (tuple): Figure size for the entire plot.\n",
        "    \"\"\"\n",
        "\n",
        "    # Setting up the subplot configuration\n",
        "    ncols = len(agg_cols)\n",
        "    fig, axs = plt.subplots(1, ncols, figsize=figsize)\n",
        "\n",
        "    # Define different color palettes for top and bottom bars\n",
        "    top_colors = sns.color_palette(\"Set1\", n_colors=n)\n",
        "    bottom_colors = sns.color_palette(\"Set2\", n_colors=n)\n",
        "\n",
        "    for i, agg_col in enumerate(agg_cols):\n",
        "        # Calculate mean values for each group and sort in ascending order\n",
        "        grouped = df.groupby(group_col)[agg_col].mean().sort_values(ascending=True)\n",
        "        top_n = grouped.head(n)\n",
        "        bottom_n = grouped.tail(n)\n",
        "\n",
        "        # Combine top and bottom for plotting\n",
        "        combined = pd.concat([top_n, bottom_n]).reset_index()\n",
        "\n",
        "        # Plot\n",
        "        ax = axs[i]\n",
        "        sns.barplot(x=group_col, y=agg_col, data=combined, ax=ax, palette=top_colors[:n] + bottom_colors[:n])\n",
        "        ax.set_title(f'Bottom and Top {n} Vehicle Classes for {agg_col.replace(\"_\", \" \").title()}')\n",
        "        # Rotate x-axis labels for better readability\n",
        "        ax.set_xticklabels(ax.get_xticklabels(), rotation=45, ha=\"right\")\n",
        "        ax.set_ylabel(agg_col.replace('_', ' ').title())\n",
        "\n",
        "    plt.tight_layout()\n",
        "    plt.show()\n",
        "\n",
        "# Call the function\n",
        "plot_top_bottom_by_vehicle_class_side_by_side(df, ['co2_emissions', 'total_fuel_consumption'], 'vehicle_class', 3)"
      ],
      "metadata": {
        "id": "OxPiG4nMvz3e"
      },
      "execution_count": null,
      "outputs": []
    },
    {
      "cell_type": "code",
      "source": [
        "def compare_col_by_engine_size(df, cols, n=5):\n",
        "    \"\"\"\n",
        "    Compare and plot the top and bottom n engine sizes based on specified columns\n",
        "    (e.g., total fuel consumption and CO2 emissions) using grouped bar charts.\n",
        "\n",
        "    Parameters:\n",
        "    - df (pandas.DataFrame): The DataFrame to analyze.\n",
        "    - cols (list of str): List of columns to aggregate and compare.\n",
        "    - n (int): Number of top or bottom engine sizes to display.\n",
        "    \"\"\"\n",
        "\n",
        "    fig, axs = plt.subplots(1, 2, figsize=(15, 6))\n",
        "    fig.subplots_adjust(hspace=0.4, wspace=0.3)\n",
        "\n",
        "    for i, col in enumerate(cols):\n",
        "        # Get top and bottom n engine sizes\n",
        "        top_engine_sizes = df.groupby('engine_size')[col].mean().nlargest(n)\n",
        "        bottom_engine_sizes = df.groupby('engine_size')[col].mean().nsmallest(n)\n",
        "\n",
        "        # Combine and sort\n",
        "        combined = pd.concat([top_engine_sizes, bottom_engine_sizes]).sort_index()\n",
        "        top_bottom_flags = ['Top' if engine in top_engine_sizes.index else 'Bottom' for engine in combined.index]\n",
        "\n",
        "        # Create grouped bar chart\n",
        "        ax = axs[i]\n",
        "        sns.barplot(x=combined.index, y=combined.values, hue=top_bottom_flags, ax=ax)\n",
        "        col_str = ' '.join(col.split('_')).title()\n",
        "        ax.set_title('Bottom and Top 5 Engine Sizes for {}'.format(col_str))\n",
        "        ax.set_xlabel('Engine Size')\n",
        "        ax.set_ylabel(col_str)\n",
        "        ax.legend(title='Category')\n",
        "\n",
        "    plt.show()\n",
        "\n",
        "# Call the function\n",
        "compare_col_by_engine_size(df, ['total_fuel_consumption', 'co2_emissions'], 5)"
      ],
      "metadata": {
        "id": "RhlME06VWRA9"
      },
      "execution_count": null,
      "outputs": []
    },
    {
      "cell_type": "code",
      "source": [
        "def plot_top_bottom_cylinder_counts(df, agg_cols, group_col='cylinder_count', n=3):\n",
        "    \"\"\"\n",
        "    Plot the top and bottom n cylinder counts based on specified aggregated columns\n",
        "    (e.g., CO2 emissions and total fuel consumption), with both graphs side by side.\n",
        "\n",
        "    Parameters:\n",
        "    - df (pd.DataFrame): The DataFrame containing the data.\n",
        "    - agg_cols (list of str): List of columns to aggregate and plot mean values for.\n",
        "    - group_col (str): The column to use for grouping (cylinder count).\n",
        "    - n (int): Number of top or bottom cylinder counts to display.\n",
        "    \"\"\"\n",
        "\n",
        "    # One row, two columns for subplots\n",
        "    nrows = 1\n",
        "    ncols = len(agg_cols)\n",
        "    fig, axs = plt.subplots(nrows, ncols, figsize=(12, 6))  # Adjust overall size as needed\n",
        "\n",
        "    for i, agg_col in enumerate(agg_cols):\n",
        "        # Calculate mean and get top and bottom n cylinder counts\n",
        "        grouped = df.groupby(group_col)[agg_col].mean()\n",
        "        top_n = grouped.nlargest(n)\n",
        "        bottom_n = grouped.nsmallest(n)\n",
        "\n",
        "        # Combine top and bottom for plotting\n",
        "        combined = pd.concat([top_n, bottom_n]).reset_index()\n",
        "        combined['Type'] = combined[group_col].apply(lambda x: 'Top' if x in top_n.index else 'Bottom')\n",
        "\n",
        "        # Plot\n",
        "        ax = axs[i] if ncols > 1 else axs\n",
        "        sns.barplot(x=group_col, y=agg_col, hue='Type', data=combined, ax=ax, palette='Reds' if agg_col == 'co2_emissions' else 'YlGnBu')\n",
        "        ax.set_title(f'Top and Bottom {n} for {agg_col.replace(\"_\", \" \").title()} per {group_col.replace(\"_\", \" \").title()}')\n",
        "        ax.set_xlabel(group_col.replace('_', ' ').title())\n",
        "        ax.set_ylabel(agg_col.replace('_', ' ').title())\n",
        "        ax.tick_params(axis='x', rotation=45)\n",
        "\n",
        "    plt.tight_layout()\n",
        "    plt.show()\n",
        "\n",
        "# Call the function\n",
        "plot_top_bottom_cylinder_counts(df, ['co2_emissions', 'total_fuel_consumption'])\n"
      ],
      "metadata": {
        "id": "HEsm4QMTi3P0"
      },
      "execution_count": null,
      "outputs": []
    },
    {
      "cell_type": "code",
      "source": [
        "def plot_top_bottom_by_transmission_type(df, agg_cols, group_col='transmission_type', n=3, figsize=(12, 6)):\n",
        "    \"\"\"\n",
        "    Plot the top and bottom n transmission types for specified aggregated columns side by side in ascending order.\n",
        "\n",
        "    Parameters:\n",
        "    - df (pd.DataFrame): The DataFrame containing the data.\n",
        "    - agg_cols (list of str): List of columns to aggregate and plot mean values for.\n",
        "    - group_col (str): The column to use for grouping (transmission type).\n",
        "    - n (int): Number of top or bottom transmission types to display.\n",
        "    - figsize (tuple): Figure size for the entire plot.\n",
        "    \"\"\"\n",
        "\n",
        "    ncols = len(agg_cols)\n",
        "    fig, axs = plt.subplots(1, ncols, figsize=figsize)\n",
        "\n",
        "    for i, agg_col in enumerate(agg_cols):\n",
        "        # Calculate mean values for each group and sort in ascending order\n",
        "        grouped = df.groupby(group_col)[agg_col].mean().sort_values(ascending=True)\n",
        "        top_n = grouped.tail(n)\n",
        "        bottom_n = grouped.head(n)\n",
        "\n",
        "        # Combine top and bottom for plotting\n",
        "        combined = pd.concat([bottom_n, top_n]).reset_index()\n",
        "\n",
        "        # Define color palette\n",
        "        colors = sns.color_palette(\"viridis\", n_colors=2 * n)\n",
        "\n",
        "        # Plot\n",
        "        ax = axs[i]\n",
        "        sns.barplot(x=group_col, y=agg_col, data=combined, ax=ax, palette=colors)\n",
        "        ax.set_title(f'Bottom and Top {n} Transmission Types for {agg_col.replace(\"_\", \" \").title()}')\n",
        "        ax.set_xlabel(group_col.replace('_', ' ').title())\n",
        "        ax.set_ylabel(agg_col.replace('_', ' ').title())\n",
        "        ax.tick_params(axis='x', rotation=45)\n",
        "\n",
        "    plt.tight_layout()\n",
        "    plt.show()\n",
        "\n",
        "# Call the function\n",
        "plot_top_bottom_by_transmission_type(df, ['co2_emissions', 'total_fuel_consumption'])"
      ],
      "metadata": {
        "id": "3wLnvArX6A9J"
      },
      "execution_count": null,
      "outputs": []
    },
    {
      "cell_type": "code",
      "source": [
        "# Mapping for fuel types\n",
        "fuel_type_mapping = {\n",
        "    'X': 'Regular gasoline',\n",
        "    'Z': 'Premium gasoline',\n",
        "    'D': 'Diesel',\n",
        "    'E': 'Ethanol (E85)',\n",
        "    'N': 'Natural gas'\n",
        "}\n",
        "\n",
        "def plot_fuel_type_charts(df, agg_cols, group_col='fuel_type', figsize=(18, 7), label_fontsize=12):\n",
        "    \"\"\"\n",
        "    Plot bar charts for specified aggregated columns side by side for different fuel types,\n",
        "    in ascending order and with colorful bars. Increase the font size of fuel type labels.\n",
        "\n",
        "    Parameters:\n",
        "    - df (pd.DataFrame): The DataFrame containing the data.\n",
        "    - agg_cols (list of str): List of columns to aggregate and plot mean values for.\n",
        "    - group_col (str): The column to use for grouping (fuel type).\n",
        "    - figsize (tuple): Figure size for the entire plot.\n",
        "    - label_fontsize (int): Font size for the fuel type labels.\n",
        "    \"\"\"\n",
        "\n",
        "    ncols = len(agg_cols)\n",
        "    fig, axs = plt.subplots(1, ncols, figsize=figsize)\n",
        "\n",
        "    for i, agg_col in enumerate(agg_cols):\n",
        "        # Calculate mean values for each group and sort\n",
        "        grouped = df.groupby(group_col)[agg_col].mean().sort_values().reset_index()\n",
        "\n",
        "        # Replace fuel type codes with full names\n",
        "        grouped[group_col] = grouped[group_col].map(fuel_type_mapping)\n",
        "\n",
        "        # Plot\n",
        "        ax = axs[i]\n",
        "        sns.barplot(x=group_col, y=agg_col, data=grouped, ax=ax, palette='viridis')\n",
        "        ax.set_title(f'{agg_col.replace(\"_\", \" \").title()} by Fuel Type')\n",
        "        ax.set_xlabel('Fuel Type', fontsize=label_fontsize)\n",
        "        ax.set_ylabel(agg_col.replace('_', ' ').title())\n",
        "        ax.set_xticklabels(ax.get_xticklabels(), rotation=45, fontsize=label_fontsize)\n",
        "\n",
        "    plt.tight_layout()\n",
        "    plt.show()\n",
        "\n",
        "# Call the function\n",
        "plot_fuel_type_charts(df, ['co2_emissions', 'total_fuel_consumption'], label_fontsize=14)"
      ],
      "metadata": {
        "id": "Kcfp8Tuw7BoD"
      },
      "execution_count": null,
      "outputs": []
    },
    {
      "cell_type": "markdown",
      "source": [
        "## Examine the trends in fuel consumption and emissions across various vehicle types over a specified period."
      ],
      "metadata": {
        "id": "1w3G7rxDT6nO"
      }
    },
    {
      "cell_type": "code",
      "source": [
        "# Group by year and vehicle, then sum up the total fuel consumption and CO2 emissions\n",
        "yearly_totals = df.groupby(['year']).agg({'total_fuel_consumption': 'sum', 'co2_emissions': 'sum'}).reset_index()\n",
        "\n",
        "# Display the table\n",
        "print(yearly_totals)\n",
        "\n",
        "# Note:\n",
        "# - The DataFrame 'df' is grouped by 'year' and then aggregated to sum up the 'total_fuel_consumption' and 'co2_emissions'.\n",
        "# - The result is stored in the DataFrame 'yearly_totals'.\n",
        "# - Finally, the table showing the yearly totals for fuel consumption and CO2 emissions is printed."
      ],
      "metadata": {
        "id": "wuFm2sMxJbi0"
      },
      "execution_count": null,
      "outputs": []
    },
    {
      "cell_type": "code",
      "source": [
        "# Plotting\n",
        "fig, ax1 = plt.subplots(figsize=(12, 6))\n",
        "\n",
        "# Plot total fuel consumption\n",
        "ax1.set_xlabel('Year')\n",
        "ax1.set_ylabel('Total Fuel Consumption', color='tab:blue')\n",
        "ax1.plot(yearly_totals['year'], yearly_totals['total_fuel_consumption'], color='tab:blue', label='Total Fuel Consumption')\n",
        "ax1.tick_params(axis='y', labelcolor='tab:blue')\n",
        "\n",
        "# Instantiate a second axes that shares the same x-axis\n",
        "ax2 = ax1.twinx()\n",
        "ax2.set_ylabel('CO2 Emissions', color='tab:red')\n",
        "ax2.plot(yearly_totals['year'], yearly_totals['co2_emissions'], color='tab:red', label='CO2 Emissions')\n",
        "ax2.tick_params(axis='y', labelcolor='tab:red')\n",
        "\n",
        "# Title and show plot\n",
        "plt.title('Yearly Total Fuel Consumption and CO2 Emissions')\n",
        "fig.tight_layout()\n",
        "plt.show()"
      ],
      "metadata": {
        "id": "k67kOP1GKbI1"
      },
      "execution_count": null,
      "outputs": []
    },
    {
      "cell_type": "code",
      "source": [
        "# Group by year and calculate the mean for each feature\n",
        "yearly_averages = df.groupby(['year']).agg({\n",
        "    'engine_size': 'mean',\n",
        "    'cylinder_count': 'mean',\n",
        "    'city_fuel_consumption':'mean',\n",
        "    'highway_fuel_consumption': 'mean',\n",
        "    'combined_fuel_consumption': 'mean',\n",
        "    'combined_fuel_efficiency_mpg':'mean'\n",
        "\n",
        "    # Add more features here\n",
        "}).reset_index()\n",
        "\n",
        "# Display the table\n",
        "print(yearly_averages)\n",
        "\n",
        "# Note:\n",
        "# - The DataFrame 'df' is grouped by 'year'.\n",
        "# - For each feature specified in the dictionary passed to agg(), the mean value is calculated for each year.\n",
        "# - The result is stored in the DataFrame 'yearly_averages'.\n",
        "# - Finally, the table showing the yearly averages for each feature is printed."
      ],
      "metadata": {
        "id": "nFzCyx379zqW"
      },
      "execution_count": null,
      "outputs": []
    },
    {
      "cell_type": "code",
      "source": [
        "# List of features of interest as named in the DataFrame\n",
        "features_of_interest = [\n",
        "    'engine_size', 'cylinder_count', 'city_fuel_consumption',\n",
        "    'highway_fuel_consumption', 'combined_fuel_consumption', 'combined_fuel_efficiency_mpg'\n",
        "]\n",
        "\n",
        "# Plotting all selected features in one graph\n",
        "plt.figure(figsize=(12, 6))  # Reduced figure size for compactness\n",
        "\n",
        "for feature in features_of_interest:\n",
        "    plt.plot(yearly_averages['year'], yearly_averages[feature])\n",
        "\n",
        "plt.title('Yearly Averages of Vehicle Features (1995-2023)')\n",
        "plt.xlabel('Year')\n",
        "plt.ylabel('Average Value')\n",
        "plt.grid(True)\n",
        "plt.xticks(yearly_averages['year'], rotation=45)  # Rotate x-axis labels for clarity\n",
        "\n",
        "# Set custom labels for the legend\n",
        "custom_labels = [\n",
        "    'Engine Size (L)', 'Cylinders', 'City Fuel Consumption (L/100km)',\n",
        "    'Highway Fuel Consumption (L/100km)', 'Combined Fuel Consumption (L/100km)', 'Combined Fuel Efficiency (mpg)'\n",
        "]\n",
        "\n",
        "plt.legend(custom_labels, loc='upper right')  # Place legend inside the plot with custom labels\n",
        "plt.tight_layout()  # Adjust layout to fit everything\n",
        "plt.show()"
      ],
      "metadata": {
        "id": "5jCXOYHcf8XL"
      },
      "execution_count": null,
      "outputs": []
    },
    {
      "cell_type": "code",
      "execution_count": null,
      "metadata": {
        "id": "85f1e78e"
      },
      "outputs": [],
      "source": [
        "def top_brands(tmp, direction='low'):\n",
        "    \"\"\"\n",
        "    Identify and print the top brands based on combined criteria of CO2 emissions and fuel consumption.\n",
        "\n",
        "    Parameters:\n",
        "    - tmp (pd.DataFrame): The DataFrame containing the data.\n",
        "    - direction (str, optional): The direction to identify top brands.\n",
        "      'low' for the least combined CO2 emissions and lowest fuel consumption,\n",
        "      'high' for the most combined CO2 emissions and highest fuel consumption.\n",
        "      Default is 'low'.\n",
        "\n",
        "    Returns:\n",
        "    None\n",
        "    \"\"\"\n",
        "\n",
        "    # Columns for CO2 emissions and total fuel consumption\n",
        "    co2_column = 'co2_emissions'\n",
        "    fuel_column = 'total_fuel_consumption'\n",
        "\n",
        "    # Check the specified direction and set the order for sorting\n",
        "    if direction == 'low':\n",
        "        ascending_order = True\n",
        "    elif direction == 'high':\n",
        "        ascending_order = False\n",
        "    else:\n",
        "        raise ValueError(\"Invalid direction. Use 'low' or 'high'.\")\n",
        "\n",
        "    # Identify the top 3 brands by CO2 Emission\n",
        "    top_co2_brands = tmp.groupby('make')[co2_column].mean().sort_values(ascending=ascending_order).head(3).index.values\n",
        "\n",
        "    # Identify the top 3 brands by Total Fuel Consumption\n",
        "    top_fuel_brands = tmp.groupby('make')[fuel_column].mean().sort_values(ascending=ascending_order).head(3).index.values\n",
        "\n",
        "    # Combine the results\n",
        "    combined_top_brands = set(top_co2_brands) | set(top_fuel_brands)\n",
        "\n",
        "    # Create a list of dictionaries to store 'make' and 'score' for each brand\n",
        "    result_list = []\n",
        "\n",
        "    # Populate the list with brands and their scores\n",
        "    for brand in combined_top_brands:\n",
        "        co2_score = tmp.loc[tmp['make'] == brand, co2_column].mean()\n",
        "        score = co2_score\n",
        "        result_list.append({'make': brand, 'score': score})\n",
        "\n",
        "    # Convert the list of dictionaries to a DataFrame\n",
        "    result_df = pd.DataFrame(result_list)\n",
        "\n",
        "    # Sort the DataFrame by the 'score' column\n",
        "    if direction == 'low':\n",
        "        result_df = result_df.sort_values(by='score', ascending=True)\n",
        "    else:\n",
        "        result_df = result_df.sort_values(by='score', ascending=False)\n",
        "\n",
        "    # Print the result\n",
        "    print(f\"Top Brands with Combined {'Least' if direction == 'low' else 'Most'} \"\n",
        "          f\"CO2 Emissions and {'Lowest' if direction == 'low' else 'Highest'} Fuel Consumption:\")\n",
        "\n",
        "    print(result_df.reset_index(drop=True))\n"
      ]
    },
    {
      "cell_type": "code",
      "execution_count": null,
      "metadata": {
        "id": "64033339"
      },
      "outputs": [],
      "source": [
        "# Identify the top brands with the least CO2 emission over time\n",
        "top_brands(df, direction='low')"
      ]
    },
    {
      "cell_type": "code",
      "execution_count": null,
      "metadata": {
        "id": "162ea61c"
      },
      "outputs": [],
      "source": [
        "tmp = df[df['make']=='Smart']"
      ]
    },
    {
      "cell_type": "code",
      "source": [
        "import matplotlib.pyplot as plt\n",
        "import numpy as np\n",
        "\n",
        "# Filter the data to include only years from 2008 onwards\n",
        "filtered_tmp = tmp[tmp['year'] >= 2008]\n",
        "\n",
        "fig, ax1 = plt.subplots(figsize=(12, 5))\n",
        "\n",
        "# Plotting CO2 emissions as a bar chart\n",
        "color = 'tab:red'\n",
        "ax1.set_xlabel('Year')\n",
        "ax1.set_ylabel('CO2 Emissions', color=color)\n",
        "ax1.bar(filtered_tmp['year'], filtered_tmp['co2_emissions'], color=color, label='CO2 Emissions', width=0.4, align='center')\n",
        "ax1.tick_params(axis='y', labelcolor=color)\n",
        "\n",
        "# Creating a second y-axis for total fuel consumption\n",
        "ax2 = ax1.twinx()  # instantiate a second axes that shares the same x-axis\n",
        "color = 'tab:blue'\n",
        "ax2.set_ylabel('Fuel Consumption', color=color)\n",
        "# Offset the positions of the bars for the second data series\n",
        "ax2.bar(filtered_tmp['year'] + 0.4, filtered_tmp['total_fuel_consumption'], color=color, label='Fuel Consumption', width=0.4, align='center')\n",
        "ax2.tick_params(axis='y', labelcolor=color)\n",
        "\n",
        "# Adding title and legend\n",
        "plt.title(\"CO2 Emissions and Fuel Consumption for Smart Brand\")\n",
        "ax1.legend(loc='upper left')\n",
        "ax2.legend(loc='upper right')\n",
        "\n",
        "fig.tight_layout()  # Adjust layout to make room for the second y-axis\n",
        "plt.show()"
      ],
      "metadata": {
        "id": "e48Ky9JBFHCQ"
      },
      "execution_count": null,
      "outputs": []
    },
    {
      "cell_type": "code",
      "execution_count": null,
      "metadata": {
        "id": "bab12afc"
      },
      "outputs": [],
      "source": [
        "top_brands(df, direction='high')"
      ]
    },
    {
      "cell_type": "code",
      "execution_count": null,
      "metadata": {
        "id": "f2b9852a"
      },
      "outputs": [],
      "source": [
        "tmp = df[df['make']=='Bugatti']"
      ]
    },
    {
      "cell_type": "code",
      "source": [
        "# Filter out the years up to 2018\n",
        "tmp_filtered = tmp[tmp['year'] > 2017]\n",
        "\n",
        "fig, ax1 = plt.subplots(figsize=(12, 5))\n",
        "\n",
        "# Plotting CO2 emissions\n",
        "color = 'tab:red'\n",
        "ax1.set_xlabel('Year')\n",
        "ax1.set_ylabel('CO2 Emissions', color=color)\n",
        "bar_width = 0.4\n",
        "ax1.bar(tmp_filtered['year'] - bar_width/2, tmp_filtered['co2_emissions'], color=color, width=bar_width, label='CO2 Emissions')\n",
        "ax1.tick_params(axis='y', labelcolor=color)\n",
        "\n",
        "# Creating a second y-axis for total fuel consumption\n",
        "ax2 = ax1.twinx()\n",
        "color = 'tab:blue'\n",
        "ax2.set_ylabel('Fuel Consumption', color=color)\n",
        "ax2.bar(tmp_filtered['year'] + bar_width/2, tmp_filtered['total_fuel_consumption'], color=color, width=bar_width, label='Fuel Consumption')\n",
        "ax2.tick_params(axis='y', labelcolor=color)\n",
        "\n",
        "# Setting x-ticks to the years in tmp_filtered\n",
        "ax1.set_xticks(tmp_filtered['year'])\n",
        "\n",
        "# Adding title and legend\n",
        "plt.title(\"CO2 Emissions and Fuel Consumption for Bugatti Brand\")\n",
        "ax1.legend(loc='upper left')\n",
        "ax2.legend(loc='upper right')\n",
        "\n",
        "fig.tight_layout()  # Adjust layout\n",
        "plt.show()"
      ],
      "metadata": {
        "id": "eeWRULuZgoNJ"
      },
      "execution_count": null,
      "outputs": []
    },
    {
      "cell_type": "code",
      "execution_count": null,
      "metadata": {
        "scrolled": true,
        "id": "547c4995"
      },
      "outputs": [],
      "source": [
        "# print the total number of unique car brands\n",
        "print('total number of unique car brands = ', df['make'].nunique())"
      ]
    },
    {
      "cell_type": "code",
      "execution_count": null,
      "metadata": {
        "id": "41f23551"
      },
      "outputs": [],
      "source": [
        "# get top 20 car brands\n",
        "top_20_popular_brands = df['make'].value_counts(ascending=False).head(20).index.values.tolist()"
      ]
    },
    {
      "cell_type": "code",
      "execution_count": null,
      "metadata": {
        "id": "2400b66c"
      },
      "outputs": [],
      "source": [
        "# Filter the DataFrame to include only entries with car makes that are among the top 20 most popular brands\n",
        "tmp = df[df['make'].isin(top_20_popular_brands)]"
      ]
    },
    {
      "cell_type": "code",
      "execution_count": null,
      "metadata": {
        "scrolled": false,
        "id": "81eba217"
      },
      "outputs": [],
      "source": [
        "top_brands(tmp, 'low')"
      ]
    },
    {
      "cell_type": "code",
      "execution_count": null,
      "metadata": {
        "scrolled": false,
        "id": "995c53bc"
      },
      "outputs": [],
      "source": [
        "top_brands(tmp, 'high')"
      ]
    },
    {
      "cell_type": "code",
      "source": [
        "# Set up the matplotlib figure\n",
        "fig, (ax1, ax2) = plt.subplots(1, 2, figsize=(15, 5), sharey=False)\n",
        "\n",
        "# CO2 Emissions Line Chart\n",
        "sns.lineplot(x='year', y='co2_emissions', data=tmp, color='darkblue', ax=ax1, marker='o')\n",
        "ax1.set_title('CO2 Emissions by Year for Honda', fontsize=16)\n",
        "ax1.set_xlabel('Year', fontsize=14)\n",
        "ax1.set_ylabel('CO2 Emissions', fontsize=14)\n",
        "ax1.tick_params(axis='y', colors='darkblue')\n",
        "\n",
        "# Total Fuel Consumption Line Chart\n",
        "sns.lineplot(x='year', y='total_fuel_consumption', data=tmp, color='lightblue', ax=ax2, marker='o')\n",
        "ax2.set_title('Total Fuel Consumption by Year for Honda', fontsize=16)\n",
        "ax2.set_xlabel('Year', fontsize=14)\n",
        "ax2.set_ylabel('Fuel Consumption', fontsize=14)\n",
        "ax2.tick_params(axis='y', colors='lightblue')\n",
        "\n",
        "# Display the plots\n",
        "plt.tight_layout()\n",
        "plt.show()\n"
      ],
      "metadata": {
        "id": "SlwjPaHQlntJ"
      },
      "execution_count": null,
      "outputs": []
    },
    {
      "cell_type": "code",
      "execution_count": null,
      "metadata": {
        "id": "262a6fec"
      },
      "outputs": [],
      "source": [
        "# Filter the DataFrame to include only entries with the car make 'Gmc'\n",
        "tmp = df[df['make']=='Gmc']"
      ]
    },
    {
      "cell_type": "code",
      "source": [
        "# Creating separate line plots for CO2 emissions and total fuel consumption\n",
        "\n",
        "# Set up the matplotlib figure\n",
        "fig, (ax1, ax2) = plt.subplots(1, 2, figsize=(15, 5), sharey=False)\n",
        "\n",
        "# CO2 Emissions Line Chart\n",
        "sns.lineplot(x='year', y='co2_emissions', data=tmp, color='darkblue', ax=ax1, marker='o')\n",
        "ax1.set_title('CO2 Emissions by Year for GMC', fontsize=16)\n",
        "ax1.set_xlabel('Year', fontsize=14)\n",
        "ax1.set_ylabel('CO2 Emissions', fontsize=14)\n",
        "ax1.tick_params(axis='y', colors='darkblue')\n",
        "\n",
        "# Total Fuel Consumption Line Chart\n",
        "sns.lineplot(x='year', y='total_fuel_consumption', data=tmp, color='lightblue', ax=ax2, marker='o')\n",
        "ax2.set_title('Total Fuel Consumption by Year for GMC', fontsize=16)\n",
        "ax2.set_xlabel('Year', fontsize=14)\n",
        "ax2.set_ylabel('Fuel Consumption', fontsize=14)\n",
        "ax2.tick_params(axis='y', colors='lightblue')\n",
        "\n",
        "# Display the plots\n",
        "plt.tight_layout()\n",
        "plt.show()\n"
      ],
      "metadata": {
        "id": "rKpdOXwfoXg2"
      },
      "execution_count": null,
      "outputs": []
    },
    {
      "cell_type": "markdown",
      "source": [
        "## Historical consumption patterns of different fuel types."
      ],
      "metadata": {
        "id": "PpRo6i00Ur0w"
      }
    },
    {
      "cell_type": "code",
      "execution_count": null,
      "metadata": {
        "id": "1d396918"
      },
      "outputs": [],
      "source": [
        "# get unique fuel_types\n",
        "fuel_types = df['fuel_type'].unique()\n",
        "print(len(fuel_types))"
      ]
    },
    {
      "cell_type": "code",
      "source": [
        "# Mapping of fuel type codes to full names\n",
        "fuel_type_names = {\n",
        "    'D': 'Diesel',\n",
        "    'E': 'Ethanol E85',\n",
        "    'X': 'Regular gasoline',\n",
        "    'Z': 'Premium gasoline'\n",
        "}\n",
        "\n",
        "fig, ax = plt.subplots(figsize=(10,7))  # Adjusted to a smaller size\n",
        "\n",
        "# Iterate over each fuel type\n",
        "for i, fuel_type in enumerate(fuel_types):\n",
        "    if fuel_type != 'N':  # Skip the fuel type 'N'\n",
        "        # Filter for the specific fuel type and years 2015 to 2023\n",
        "        tmp = df[(df['fuel_type'] == fuel_type) & (df['year'] >= 2015) & (df['year'] <= 2023)]\n",
        "        tmp = tmp.groupby(by=['year'])['total_fuel_consumption'].mean().reset_index()\n",
        "        # Use the full name of the fuel type for the label\n",
        "        ax.plot(tmp['year'], tmp['total_fuel_consumption'], label=f'{fuel_type} ({fuel_type_names.get(fuel_type, \"Other\")})')\n",
        "\n",
        "ax.set_xlabel('Year')\n",
        "ax.set_ylabel('Average Total Fuel Consumption')\n",
        "ax.set_title('Fuel Consumption per Fuel type')\n",
        "\n",
        "plt.legend()  # Add legend to the plot\n",
        "plt.xticks(rotation=45, ha='right')  # Rotate x-axis labels for better readability\n",
        "plt.tight_layout()  # Adjust layout for better appearance\n",
        "plt.show()  # Display the plot"
      ],
      "metadata": {
        "id": "sFKLxyn0woy1"
      },
      "execution_count": null,
      "outputs": []
    },
    {
      "cell_type": "markdown",
      "source": [
        "# Inferential Statistical Analysis"
      ],
      "metadata": {
        "id": "IRrP-nphU9kx"
      }
    },
    {
      "cell_type": "markdown",
      "source": [
        "## Determine the correlation between city and highway fuel consumption in vehicles to infer driving efficiency."
      ],
      "metadata": {
        "id": "Hcx3ZrgRVCDb"
      }
    },
    {
      "cell_type": "code",
      "execution_count": null,
      "metadata": {
        "id": "00c72ce4"
      },
      "outputs": [],
      "source": [
        "# Create a pairplot to visualize the distribution\n",
        "\n",
        "pairplot = sns.pairplot(df[['city_fuel_consumption', 'highway_fuel_consumption']])\n",
        "pairplot.fig.suptitle('Pairplot of City and Highway Fuel Consumption', y=1.05)\n",
        "plt.show()"
      ]
    },
    {
      "cell_type": "markdown",
      "metadata": {
        "id": "8QK3VAufpAMl"
      },
      "source": [
        "## \tT-test\n"
      ]
    },
    {
      "cell_type": "code",
      "execution_count": null,
      "metadata": {
        "id": "2bd9836f"
      },
      "outputs": [],
      "source": [
        "from scipy.stats import ttest_ind\n",
        "\n",
        "# Define specific fuel type\n",
        "specific_type = 'Z'"
      ]
    },
    {
      "cell_type": "code",
      "execution_count": null,
      "metadata": {
        "id": "mMPnT77JoNw-"
      },
      "outputs": [],
      "source": [
        "# Filter data for the specific fuel type and the rest\n",
        "specific_df = df[df['fuel_type'] == specific_type]\n",
        "rest_df = df[df['fuel_type'] != specific_type]\n",
        "\n",
        "# Choose a performance metric (e.g., 'total_fuel_consumption')\n",
        "performance_metric = 'total_fuel_consumption'\n",
        "\n",
        "# Statistical test (t-test)\n",
        "t_stat, p_value = ttest_ind(specific_df[performance_metric], rest_df[performance_metric])\n",
        "\n",
        "# Print the results\n",
        "print(f\"T-statistic: {t_stat}\")\n",
        "print(f\"P-value: {p_value}\")"
      ]
    },
    {
      "cell_type": "code",
      "source": [
        "import matplotlib.pyplot as plt\n",
        "import seaborn as sns\n",
        "\n",
        "# Define a dictionary to map the fuel type codes to their actual names\n",
        "fuel_type_labels = {'Z': 'Premium Gasoline', 'X': 'Regular Gasoline', 'D': 'Diesel', 'E': 'Ethanol E85', 'N': 'Natural Gas'}\n",
        "\n",
        "# Replace fuel type codes in the dataframe with the actual names for plotting\n",
        "df['fuel_type'] = df['fuel_type'].map(fuel_type_labels)\n",
        "\n",
        "# Visualization (Boxplot)\n",
        "plt.figure(figsize=(12, 6))\n",
        "sns.boxplot(x='fuel_type', y='total_fuel_consumption', data=df, palette='Set2')\n",
        "plt.xlabel('Fuel Type')  # Renaming x-axis label\n",
        "plt.ylabel('Total Fuel Consumption')  # Renaming y-axis label\n",
        "plt.title('Total Fuel Consumption Comparison by Fuel Type (Premium Gasoline vs Others)')  # Renaming the title\n",
        "plt.show()\n"
      ],
      "metadata": {
        "id": "e3GaMjfGof9X"
      },
      "execution_count": null,
      "outputs": []
    },
    {
      "cell_type": "markdown",
      "metadata": {
        "id": "rp0uMSrqhnqK"
      },
      "source": [
        "## Chi-square\n"
      ]
    },
    {
      "cell_type": "code",
      "execution_count": null,
      "metadata": {
        "scrolled": true,
        "id": "c9774f1b"
      },
      "outputs": [],
      "source": [
        "df[['make', 'model', 'vehicle_class', 'transmission_type', 'fuel_type']].head()"
      ]
    },
    {
      "cell_type": "code",
      "execution_count": null,
      "metadata": {
        "id": "d06cc416"
      },
      "outputs": [],
      "source": [
        "from scipy.stats import chi2_contingency"
      ]
    },
    {
      "cell_type": "markdown",
      "metadata": {
        "id": "b43c84ad"
      },
      "source": [
        "#### Fuel Type and CO2 Rating"
      ]
    },
    {
      "cell_type": "code",
      "execution_count": null,
      "metadata": {
        "scrolled": false,
        "id": "463779d5"
      },
      "outputs": [],
      "source": [
        "# Create a contingency table\n",
        "contingency_table = pd.crosstab(df['fuel_type'], df['CO2 rating'])\n",
        "\n",
        "# Perform the chi-square test\n",
        "chi2, p, _, _ = chi2_contingency(contingency_table)\n",
        "\n",
        "# Display the chi-square test results\n",
        "print(\"Chi-Square Test Results:\")\n",
        "print(\"Chi-Square Value: {:.2f}\".format(chi2))\n",
        "print(\"P-Value: {:.3e}\".format(p))\n",
        "\n",
        "# Interpretation\n",
        "alpha = 0.05\n",
        "interpretation = \"There is a significant relationship between Fuel type and CO2 Rating.\" if p < alpha else \"There is no significant relationship between Fuel type and CO2 Rating.\"\n",
        "print(\"\\nInterpretation:\")\n",
        "print(interpretation)\n"
      ]
    },
    {
      "cell_type": "markdown",
      "metadata": {
        "id": "d122985a"
      },
      "source": [
        "#### Vehicle Class and CO2 Rating"
      ]
    },
    {
      "cell_type": "code",
      "execution_count": null,
      "metadata": {
        "id": "3c9c8244"
      },
      "outputs": [],
      "source": [
        "# Create a contingency table\n",
        "contingency_table = pd.crosstab(df['vehicle_class'], df['transmission_type'])\n",
        "\n",
        "# Perform the chi-square test\n",
        "chi2, p, _, _ = chi2_contingency(contingency_table)\n",
        "\n",
        "# Display the chi-square test results\n",
        "print(\"Chi-Square Test Results:\")\n",
        "print(\"Chi-Square Value: {:.2f}\".format(chi2))\n",
        "print(\"P-Value: {:.3e}\".format(p))\n",
        "\n",
        "# Interpretation\n",
        "alpha = 0.05\n",
        "interpretation = \"There is a significant relationship between Vehicle Class and Transmission Type.\" if p < alpha else \"There is no significant relationship between Fuel type and CO2 Rating.\"\n",
        "print(\"\\nInterpretation:\")\n",
        "print(interpretation)\n"
      ]
    },
    {
      "cell_type": "markdown",
      "metadata": {
        "id": "f09b54d0"
      },
      "source": [
        "#### Transmission Type and Fuel Type"
      ]
    },
    {
      "cell_type": "code",
      "execution_count": null,
      "metadata": {
        "id": "50b3f8e3"
      },
      "outputs": [],
      "source": [
        "# Create a contingency table\n",
        "contingency_table = pd.crosstab(df['transmission_type'], df['fuel_type'])\n",
        "\n",
        "# Perform the chi-square test\n",
        "chi2, p, _, _ = chi2_contingency(contingency_table)\n",
        "\n",
        "# Display the chi-square test results\n",
        "print(\"Chi-Square Test Results:\")\n",
        "print(\"Chi-Square Value: {:.2f}\".format(chi2))\n",
        "print(\"P-Value: {:.3e}\".format(p))\n",
        "\n",
        "# Interpretation\n",
        "alpha = 0.05\n",
        "interpretation = \"There is a significant relationship between Transmission Type and Fuel Type.\" if p < alpha else \"There is no significant relationship between Fuel type and CO2 Rating.\"\n",
        "print(\"\\nInterpretation:\")\n",
        "print(interpretation)\n"
      ]
    },
    {
      "cell_type": "markdown",
      "metadata": {
        "id": "85b76830"
      },
      "source": [
        "#### Vehicle Class and Transmission Type"
      ]
    },
    {
      "cell_type": "code",
      "execution_count": null,
      "metadata": {
        "id": "b7ff86d4"
      },
      "outputs": [],
      "source": [
        "# Create a contingency table\n",
        "contingency_table = pd.crosstab(df['transmission_type'], df['vehicle_class'])\n",
        "\n",
        "# Perform the chi-square test\n",
        "chi2, p, _, _ = chi2_contingency(contingency_table)\n",
        "\n",
        "# Display the chi-square test results\n",
        "print(\"Chi-Square Test Results:\")\n",
        "print(\"Chi-Square Value: {:.2f}\".format(chi2))\n",
        "print(\"P-Value: {:.3e}\".format(p))\n",
        "\n",
        "# Interpretation\n",
        "alpha = 0.05\n",
        "interpretation = \"There is a significant relationship between Transmission Type and Vehicle Class.\" if p < alpha else \"There is no significant relationship between Fuel type and CO2 Rating.\"\n",
        "print(\"\\nInterpretation:\")\n",
        "print(interpretation)\n"
      ]
    },
    {
      "cell_type": "markdown",
      "metadata": {
        "id": "284d4837"
      },
      "source": [
        "#### Make and Fuel Type"
      ]
    },
    {
      "cell_type": "code",
      "execution_count": null,
      "metadata": {
        "id": "92f7eba4"
      },
      "outputs": [],
      "source": [
        "# Create a contingency table\n",
        "contingency_table = pd.crosstab(df['make'], df['fuel_type'])\n",
        "\n",
        "# Perform the chi-square test\n",
        "chi2, p, _, _ = chi2_contingency(contingency_table)\n",
        "\n",
        "# Display the chi-square test results\n",
        "print(\"Chi-Square Test Results:\")\n",
        "print(\"Chi-Square Value: {:.2f}\".format(chi2))\n",
        "print(\"P-Value: {:.3e}\".format(p))\n",
        "\n",
        "# Interpretation\n",
        "alpha = 0.05\n",
        "interpretation = \"There is a significant relationship between Car Make and Fuel Type.\" if p < alpha else \"There is no significant relationship between Fuel type and CO2 Rating.\"\n",
        "print(\"\\nInterpretation:\")\n",
        "print(interpretation)\n"
      ]
    },
    {
      "cell_type": "markdown",
      "metadata": {
        "id": "33ecd614"
      },
      "source": [
        "#### Model and Transmission Type"
      ]
    },
    {
      "cell_type": "code",
      "execution_count": null,
      "metadata": {
        "id": "a45dd3c7"
      },
      "outputs": [],
      "source": [
        "# Create a contingency table\n",
        "contingency_table = pd.crosstab(df['model'], df['transmission_type'])\n",
        "\n",
        "# Perform the chi-square test\n",
        "chi2, p, _, _ = chi2_contingency(contingency_table)\n",
        "\n",
        "# Display the chi-square test results\n",
        "print(\"Chi-Square Test Results:\")\n",
        "print(\"Chi-Square Value: {:.2f}\".format(chi2))\n",
        "print(\"P-Value: {:.3e}\".format(p))\n",
        "\n",
        "# Interpretation\n",
        "alpha = 0.05\n",
        "interpretation = \"There is a significant relationship between Car Model and Transmission Type.\" if p < alpha else \"There is no significant relationship between Fuel type and CO2 Rating.\"\n",
        "print(\"\\nInterpretation:\")\n",
        "print(interpretation)\n"
      ]
    },
    {
      "cell_type": "code",
      "execution_count": null,
      "metadata": {
        "id": "a44397c8"
      },
      "outputs": [],
      "source": [
        "data = df.copy()"
      ]
    },
    {
      "cell_type": "markdown",
      "metadata": {
        "id": "2c59d384"
      },
      "source": [
        "## Data Preprocessing for Correlation Analysis"
      ]
    },
    {
      "cell_type": "code",
      "execution_count": null,
      "metadata": {
        "id": "8c3d5cb7"
      },
      "outputs": [],
      "source": [
        "from sklearn.preprocessing import OrdinalEncoder, StandardScaler\n",
        "from sklearn.model_selection import train_test_split"
      ]
    },
    {
      "cell_type": "code",
      "execution_count": null,
      "metadata": {
        "id": "c50fbf6b"
      },
      "outputs": [],
      "source": [
        "df.head(2)"
      ]
    },
    {
      "cell_type": "code",
      "execution_count": null,
      "metadata": {
        "id": "7080458c"
      },
      "outputs": [],
      "source": [
        "#convert categorical features to numbers\n",
        "cat_features = df.select_dtypes(object).columns.tolist()"
      ]
    },
    {
      "cell_type": "code",
      "execution_count": null,
      "metadata": {
        "id": "4438de6d"
      },
      "outputs": [],
      "source": [
        "# Create an OrdinalEncoder object with integer dtype\n",
        "encoder = OrdinalEncoder(dtype=int)\n",
        "\n",
        "# Note:\n",
        "# - OrdinalEncoder is used to encode categorical features as ordinal integers.\n",
        "# - By specifying dtype=int, it ensures that the encoded values are integers."
      ]
    },
    {
      "cell_type": "code",
      "execution_count": null,
      "metadata": {
        "id": "3f9be93a"
      },
      "outputs": [],
      "source": [
        "# Use the OrdinalEncoder to transform categorical features in the DataFrame\n",
        "# cat_features contains the names of categorical columns in the DataFrame\n",
        "# encoder.fit_transform() fits the encoder to the data and transforms the categorical features\n",
        "# The transformed values are assigned back to the original DataFrame columns\n",
        "df[cat_features] = encoder.fit_transform(df[cat_features])\n",
        "\n",
        "# Note:\n",
        "# - The OrdinalEncoder is applied to the categorical features in the DataFrame (df[cat_features]).\n",
        "# - The fit_transform() method fits the encoder to the data and transforms the categorical features.\n",
        "# - The transformed values are then assigned back to the original DataFrame columns.\n",
        "# - This process replaces categorical values with ordinal integers based on their order of appearance."
      ]
    },
    {
      "cell_type": "code",
      "execution_count": null,
      "metadata": {
        "id": "c1bc9b27"
      },
      "outputs": [],
      "source": [
        "df.head(3)"
      ]
    },
    {
      "cell_type": "markdown",
      "metadata": {
        "id": "30f4be65"
      },
      "source": [
        "## Correlation Analysis"
      ]
    },
    {
      "cell_type": "code",
      "execution_count": null,
      "metadata": {
        "id": "a0aa012d"
      },
      "outputs": [],
      "source": [
        "corr = df.corr()"
      ]
    },
    {
      "cell_type": "code",
      "source": [
        "fig, ax = plt.subplots(figsize=(12, 7))\n",
        "\n",
        "# Define custom variable names\n",
        "custom_labels = [\n",
        "    'Model year', 'Make', 'Model', 'Vehicle class', 'Engine size (L)',\n",
        "    'Cylinders', 'Transmission', 'Fuel type', 'City (L/100 km)',\n",
        "    'Highway (L/100 km)', 'Combined (L/100 km)', 'Combined (mpg)',\n",
        "    'CO2 emissions (g/km)', 'CO2 rating', 'Smog rating', 'Vehicle class Group', 'Total fuel consumption'\n",
        "]\n",
        "\n",
        "# Create the heatmap with custom labels\n",
        "sns.heatmap(corr, annot=True, xticklabels=custom_labels, yticklabels=custom_labels, ax=ax)\n",
        "\n",
        "plt.show()"
      ],
      "metadata": {
        "id": "gd8t2OnjEbpq"
      },
      "execution_count": null,
      "outputs": []
    },
    {
      "cell_type": "markdown",
      "metadata": {
        "id": "420fefa3"
      },
      "source": [
        "## Data Preprocessing for ML Analysis"
      ]
    },
    {
      "cell_type": "code",
      "execution_count": null,
      "metadata": {
        "scrolled": true,
        "id": "70311a73"
      },
      "outputs": [],
      "source": [
        "# Calculate the percentage of missing values for each column in the DataFrame\n",
        "# df.isna().sum() calculates the total number of missing values for each column\n",
        "# df.shape[0] gives the total number of rows in the DataFrame\n",
        "# By dividing the sum of missing values by the total number of rows, we get the percentage of missing values for each column\n",
        "# This provides insight into the extent of missing data in each column\n",
        "(df.isna().sum() / df.shape[0])\n",
        "\n",
        "# Note:\n",
        "# - df.isna().sum() calculates the sum of missing values for each column in the DataFrame.\n",
        "# - df.shape[0] gives the total number of rows in the DataFrame.\n",
        "# - By dividing the sum of missing values by the total number of rows, we get the percentage of missing values for each column.\n",
        "# - This allows us to assess the completeness of the data and identify columns with a high proportion of missing values."
      ]
    },
    {
      "cell_type": "code",
      "execution_count": null,
      "metadata": {
        "id": "5a780393"
      },
      "outputs": [],
      "source": [
        "# drop columns with too many missing \"NaN\" values\n",
        "df.drop(columns=['CO2 rating', 'Smog rating'], inplace=True)"
      ]
    },
    {
      "cell_type": "code",
      "execution_count": null,
      "metadata": {
        "scrolled": true,
        "id": "f18b2480"
      },
      "outputs": [],
      "source": [
        "df.head(2)"
      ]
    },
    {
      "cell_type": "markdown",
      "metadata": {
        "id": "37e132f0"
      },
      "source": [
        "# Machine Learning"
      ]
    },
    {
      "cell_type": "code",
      "execution_count": null,
      "metadata": {
        "id": "VE_eLbFusCm-"
      },
      "outputs": [],
      "source": [
        "from xgboost import XGBRegressor\n",
        "from sklearn.neighbors import KNeighborsRegressor\n",
        "from sklearn.neural_network import MLPRegressor\n",
        "from sklearn.linear_model import LinearRegression, SGDRegressor\n",
        "from sklearn.tree import DecisionTreeRegressor\n",
        "from sklearn.ensemble import RandomForestRegressor\n",
        "\n",
        "from sklearn.metrics import mean_absolute_error, mean_squared_error, r2_score"
      ]
    },
    {
      "cell_type": "code",
      "execution_count": null,
      "metadata": {
        "id": "63ff88d3"
      },
      "outputs": [],
      "source": [
        "targets = ['co2_emissions', 'total_fuel_consumption']\n",
        "features = ['year', 'make', 'model', 'vehicle_class', 'engine_size', 'cylinder_count', 'transmission_type', 'fuel_type', 'vehicle_class_group']"
      ]
    },
    {
      "cell_type": "code",
      "execution_count": null,
      "metadata": {
        "id": "65121348"
      },
      "outputs": [],
      "source": [
        "# Split the dataset into training and testing sets using train_test_split function from scikit-learn\n",
        "# df[features] contains the feature columns used for training and testing\n",
        "# df[targets] contains the target variable(s) to be predicted\n",
        "# test_size=0.2 specifies that 20% of the data will be used for testing, while the remaining 80% will be used for training\n",
        "# random_state=42 sets the random seed for reproducibility of the split\n",
        "# X_train and y_train represent the feature and target variables for the training set, respectively\n",
        "# X_test and y_test represent the feature and target variables for the testing set, respectively\n",
        "X_train, X_test, y_train, y_test = train_test_split(df[features], df[targets], test_size=0.2, random_state=42)\n",
        "\n",
        "# Note:\n",
        "# - train_test_split function is used to split the dataset into training and testing sets.\n",
        "# - df[features] contains the feature columns used for prediction, and df[targets] contains the target variable(s).\n",
        "# - test_size=0.2 specifies that 20% of the data will be used for testing, while the remaining 80% will be used for training.\n",
        "# - random_state=42 sets the random seed for reproducibility of the split, ensuring consistent results across runs.\n",
        "# - The resulting X_train, X_test, y_train, and y_test are the feature and target variables for the training and testing sets, respectively."
      ]
    },
    {
      "cell_type": "code",
      "execution_count": null,
      "metadata": {
        "id": "2a02d1c7"
      },
      "outputs": [],
      "source": [
        "# Create a StandardScaler object\n",
        "# StandardScaler is used to standardize features by removing the mean and scaling to unit variance\n",
        "scaler = StandardScaler()\n",
        "\n",
        "# Note:\n",
        "# - StandardScaler is a preprocessing technique used to standardize features by removing the mean and scaling to unit variance.\n",
        "# - It ensures that each feature has a mean of 0 and a standard deviation of 1, which can be important for many machine learning algorithms.\n",
        "# - Standardizing features can improve the performance and convergence of certain machine learning models.\n",
        "# - The scaler object will be used to transform the data, ensuring that all features are on the same scale."
      ]
    },
    {
      "cell_type": "code",
      "execution_count": null,
      "metadata": {
        "id": "9892f1c6"
      },
      "outputs": [],
      "source": [
        "# Standardize the features in the training set using the fit_transform method of the StandardScaler object\n",
        "# scaler.fit_transform() computes the mean and standard deviation of each feature in the training set\n",
        "# and then standardizes the features by subtracting the mean and dividing by the standard deviation\n",
        "# The result is assigned to X_train, and the column names are preserved\n",
        "X_train = pd.DataFrame(scaler.fit_transform(X_train), columns=X_train.columns)\n",
        "\n",
        "# Standardize the features in the testing set using the transform method of the StandardScaler object\n",
        "# scaler.transform() applies the same transformation computed from the training set to the testing set\n",
        "# The result is assigned to X_test, and the column names are preserved\n",
        "X_test = pd.DataFrame(scaler.transform(X_test), columns=X_test.columns)\n",
        "\n",
        "# Note:\n",
        "# - StandardScaler.fit_transform() computes the mean and standard deviation of each feature in the training set and then standardizes the features.\n",
        "# - It's crucial to use the same scaler object for both training and testing sets to ensure consistency in scaling.\n",
        "# - StandardScaler.transform() applies the same transformation computed from the training set to the testing set, ensuring that both sets are on the same scale.\n",
        "# - The resulting standardized feature matrices (X_train and X_test) are stored as Pandas DataFrames with the original column names preserved."
      ]
    },
    {
      "cell_type": "code",
      "execution_count": null,
      "metadata": {
        "id": "4618e137"
      },
      "outputs": [],
      "source": [
        "# Create a dictionary containing different regression models\n",
        "# Each key-value pair in the dictionary represents a model name (key) and its corresponding regression model (value)\n",
        "models_dict = {\n",
        "    'Linear Regression': LinearRegression(),           # Linear Regression model\n",
        "    'Decision Tree': DecisionTreeRegressor(),          # Decision Tree Regression model\n",
        "    'Random Forest': RandomForestRegressor(),          # Random Forest Regression model\n",
        "    'KNeighbors': KNeighborsRegressor(),               # K-Nearest Neighbors Regression model\n",
        "    'Multi-layer Perceptron': MLPRegressor(),          # Multi-layer Perceptron Regression model\n",
        "    'Xgboost': XGBRegressor()                          # XGBoost Regression model\n",
        "}\n",
        "\n",
        "# Note:\n",
        "# - The models_dict dictionary contains different regression models initialized with their respective constructors.\n",
        "# - Each key represents a model name, and each value represents an instance of the corresponding regression model.\n",
        "# - This dictionary is useful for iterating over multiple models in a loop or for easy access to specific models by name."
      ]
    },
    {
      "cell_type": "code",
      "execution_count": null,
      "metadata": {
        "scrolled": true,
        "id": "7e925e5e"
      },
      "outputs": [],
      "source": [
        "# Iterate over each model in the models_dict dictionary\n",
        "for model_name, model in models_dict.items():\n",
        "    # Fit the current model to the training data\n",
        "    model.fit(X_train, y_train)\n",
        "    # Print a message indicating that the model has been trained\n",
        "    print('Trained a {} Model'.format(model_name))\n",
        "\n",
        "# Note:\n",
        "# - The for loop iterates over each key-value pair in the models_dict dictionary.\n",
        "# - In each iteration, 'model_name' represents the name of the model, and 'model' represents the regression model object.\n",
        "# - The model is trained using the fit() method with the training data (X_train and y_train).\n",
        "# - After training, a message is printed indicating that the model has been trained.\n",
        "# - This loop allows training of each model in the dictionary with the same training data."
      ]
    },
    {
      "cell_type": "code",
      "execution_count": null,
      "metadata": {
        "id": "5504f939"
      },
      "outputs": [],
      "source": [
        "def plot_predictions(models_dict, X_test, y_test):\n",
        "    \"\"\"\n",
        "    Plot predictions versus actual values for CO2 emissions and fuel consumption.\n",
        "\n",
        "    Parameters:\n",
        "    - models_dict (dict): A dictionary containing model names as keys and corresponding trained models as values.\n",
        "    - X_test (pd.DataFrame): The feature values of the test dataset.\n",
        "    - y_test (pd.DataFrame): The true target values of the test dataset.\n",
        "\n",
        "    \"\"\"\n",
        "    # Extract true values for CO2 emissions and fuel consumption\n",
        "    y_true_co2 = y_test.iloc[:, 0]\n",
        "    y_true_fuel = y_test.iloc[:, 1]\n",
        "\n",
        "    # Plot predictions vs. actual for CO2 emissions\n",
        "    plt.figure(figsize=(12, 6))\n",
        "    plt.subplot(1, 2, 1)\n",
        "    for model_name, model in models_dict.items():\n",
        "        y_pred_co2 = model.predict(X_test)[:, 0]\n",
        "        plt.scatter(y_true_co2, y_pred_co2, label=model_name, alpha=0.7)\n",
        "\n",
        "    # Plot diagonal line for reference\n",
        "    plt.plot([min(y_true_co2), max(y_true_co2)], [min(y_true_co2), max(y_true_co2)], linestyle='--', color='red', linewidth=2)\n",
        "    plt.title('CO2 Emissions Predictions vs. Actual')\n",
        "    plt.xlabel('Actual CO2 Emissions')\n",
        "    plt.ylabel('Predicted CO2 Emissions')\n",
        "    plt.legend()\n",
        "\n",
        "    # Plot predictions vs. actual for fuel consumption\n",
        "    plt.subplot(1, 2, 2)\n",
        "    for model_name, model in models_dict.items():\n",
        "        y_pred_fuel = model.predict(X_test)[:, 1]\n",
        "        plt.scatter(y_true_fuel, y_pred_fuel, label=model_name, alpha=0.7)\n",
        "\n",
        "    # Plot diagonal line for reference\n",
        "    plt.plot([min(y_true_fuel), max(y_true_fuel)], [min(y_true_fuel), max(y_true_fuel)], linestyle='--', color='red', linewidth=2)\n",
        "    plt.title('Fuel Consumption Predictions vs. Actual')\n",
        "    plt.xlabel('Actual Fuel Consumption')\n",
        "    plt.ylabel('Predicted Fuel Consumption')\n",
        "    plt.legend()\n",
        "\n",
        "    # Adjust layout for better visualization\n",
        "    plt.tight_layout()\n",
        "    plt.show()\n",
        "\n",
        "# Note:\n",
        "# - This function plots predictions versus actual values for CO2 emissions and fuel consumption for each model in the provided dictionary.\n",
        "# - It first extracts the true values for CO2 emissions and fuel consumption from the test dataset.\n",
        "# - Then, it iterates over each model in the dictionary, predicts the target variables using the model, and plots the actual vs. predicted values.\n",
        "# - The diagonal line in each plot represents perfect predictions (actual = predicted).\n",
        "# - Each subplot corresponds to a target variable (CO2 emissions or fuel consumption), and each point represents a data point.\n",
        "# - The layout of the plots is adjusted for better visualization using plt.tight_layout()."
      ]
    },
    {
      "cell_type": "code",
      "execution_count": null,
      "metadata": {
        "id": "26736113"
      },
      "outputs": [],
      "source": [
        "# Define a function to evaluate regression models using various metrics for CO2 emissions and fuel consumption\n",
        "def evaluate_model(models_dict, X_test=X_test, y_test=y_test):\n",
        "    \"\"\"\n",
        "    Evaluate regression models using various metrics for CO2 emissions and fuel consumption.\n",
        "\n",
        "    Parameters:\n",
        "    - models_dict (dict): A dictionary containing model names as keys and corresponding trained models as values.\n",
        "    - X_test (pd.DataFrame, optional): The feature values of the test dataset. Default is the global variable 'X_test'.\n",
        "    - y_test (pd.DataFrame, optional): The true target values of the test dataset. Default is the global variable 'y_test'.\n",
        "\n",
        "    Returns:\n",
        "    pd.DataFrame: A DataFrame containing evaluation metrics for each model.\n",
        "    \"\"\"\n",
        "\n",
        "    # Initialize an empty list to store evaluation results\n",
        "    results = []\n",
        "\n",
        "    # Iterate over each model in the models_dict dictionary\n",
        "    for model_name, model in models_dict.items():\n",
        "        # Predictions\n",
        "        y_pred = model.predict(X_test)\n",
        "\n",
        "        # Calculate evaluation metrics for CO2 Emissions (y_test.iloc[:, 0])\n",
        "        r2_co2 = r2_score(y_test.iloc[:, 0], y_pred[:, 0])      # R-squared (Coefficient of Determination)\n",
        "        mae_co2 = mean_absolute_error(y_test.iloc[:, 0], y_pred[:, 0])  # Mean Absolute Error\n",
        "        rmse_co2 = np.sqrt(mean_squared_error(y_test.iloc[:, 0], y_pred[:, 0]))  # Root Mean Squared Error\n",
        "\n",
        "        # Calculate evaluation metrics for Fuel Consumption (y_test.iloc[:, 1])\n",
        "        r2_fuel = r2_score(y_test.iloc[:, 1], y_pred[:, 1])    # R-squared (Coefficient of Determination)\n",
        "        mae_fuel = mean_absolute_error(y_test.iloc[:, 1], y_pred[:, 1])  # Mean Absolute Error\n",
        "        rmse_fuel = np.sqrt(mean_squared_error(y_test.iloc[:, 1], y_pred[:, 1]))  # Root Mean Squared Error\n",
        "\n",
        "        # Append evaluation results to the list\n",
        "        results.append({\n",
        "            'Model': model_name,\n",
        "            'R2_CO2': r2_co2,\n",
        "            'MAE_CO2': mae_co2,\n",
        "            'RMSE_CO2': rmse_co2,\n",
        "            'R2_Fuel': r2_fuel,\n",
        "            'MAE_Fuel': mae_fuel,\n",
        "            'RMSE_Fuel': rmse_fuel\n",
        "        })\n",
        "\n",
        "    # Plot predictions versus actual values\n",
        "    plot_predictions(models_dict, X_test, y_test)\n",
        "\n",
        "    # Return the evaluation results as a DataFrame\n",
        "    return pd.DataFrame(results)\n",
        "\n",
        "# Note:\n",
        "# - This function evaluates regression models using various metrics for CO2 emissions and fuel consumption.\n",
        "# - It iterates over each model in the models_dict dictionary, predicts target variables using the test data,\n",
        "#   and calculates evaluation metrics such as R-squared, Mean Absolute Error, and Root Mean Squared Error for each model.\n",
        "# - The evaluation results are stored in a DataFrame and returned.\n",
        "# - Additionally, the function plots predictions versus actual values for visualization using the plot_predictions function."
      ]
    },
    {
      "cell_type": "code",
      "execution_count": null,
      "metadata": {
        "scrolled": false,
        "id": "062f463c"
      },
      "outputs": [],
      "source": [
        "# Evaluate regression models using the evaluate_model function and store the results in a DataFrame\n",
        "res_df = evaluate_model(models_dict, X_test, y_test)\n",
        "res_df\n",
        "# Note:\n",
        "# - The evaluate_model function is called with the provided models_dict, X_test, and y_test as arguments.\n",
        "# - This function evaluates regression models using various metrics for CO2 emissions and fuel consumption.\n",
        "# - The evaluation results are stored in a DataFrame named res_df."
      ]
    },
    {
      "cell_type": "code",
      "source": [
        "# Define a function to plot individual predictions versus actual values for CO2 emissions and fuel consumption for each model\n",
        "def plot_individual_predictions(models_dict, X_test, y_test):\n",
        "    \"\"\"\n",
        "    Plot individual predictions versus actual values for CO2 emissions and fuel consumption for each model.\n",
        "\n",
        "    Parameters:\n",
        "    - models_dict (dict): A dictionary containing model names as keys and corresponding trained models as values.\n",
        "    - X_test (pd.DataFrame): The feature values of the test dataset.\n",
        "    - y_test (pd.DataFrame): The true target values of the test dataset.\n",
        "    \"\"\"\n",
        "\n",
        "    # Extract true values for CO2 emissions and fuel consumption from the test data\n",
        "    y_true_co2 = y_test.iloc[:, 0]\n",
        "    y_true_fuel = y_test.iloc[:, 1]\n",
        "\n",
        "    # Iterate over each model in the models_dict dictionary\n",
        "    for model_name, model in models_dict.items():\n",
        "        # Predictions for CO2 and Fuel\n",
        "        y_pred = model.predict(X_test)\n",
        "        y_pred_co2 = y_pred[:, 0]\n",
        "        y_pred_fuel = y_pred[:, 1]\n",
        "\n",
        "        # Create a figure for each model\n",
        "        plt.figure(figsize=(12, 6))\n",
        "\n",
        "        # Plot for CO2 emissions\n",
        "        plt.subplot(1, 2, 1)\n",
        "        plt.scatter(y_true_co2, y_pred_co2, alpha=0.7)\n",
        "        plt.plot([y_true_co2.min(), y_true_co2.max()], [y_true_co2.min(), y_true_co2.max()], linestyle='--', color='red', linewidth=2)\n",
        "        plt.title(f'{model_name} - CO2 Emissions Predictions vs. Actual')\n",
        "        plt.xlabel('Actual CO2 Emissions')\n",
        "        plt.ylabel('Predicted CO2 Emissions')\n",
        "\n",
        "        # Plot for fuel consumption\n",
        "        plt.subplot(1, 2, 2)\n",
        "        plt.scatter(y_true_fuel, y_pred_fuel, alpha=0.7)\n",
        "        plt.plot([y_true_fuel.min(), y_true_fuel.max()], [y_true_fuel.min(), y_true_fuel.max()], linestyle='--', color='red', linewidth=2)\n",
        "        plt.title(f'{model_name} - Fuel Consumption Predictions vs. Actual')\n",
        "        plt.xlabel('Actual Fuel Consumption')\n",
        "        plt.ylabel('Predicted Fuel Consumption')\n",
        "\n",
        "        # Adjust layout for better visualization\n",
        "        plt.tight_layout()\n",
        "        plt.show()\n",
        "\n",
        "# Plot individual predictions versus actual values for each model\n",
        "plot_individual_predictions(models_dict, X_test, y_test)"
      ],
      "metadata": {
        "id": "rnB5SW9Skevy"
      },
      "execution_count": null,
      "outputs": []
    },
    {
      "cell_type": "code",
      "execution_count": null,
      "metadata": {
        "id": "3c3a0e54"
      },
      "outputs": [],
      "source": [
        "# Select the row corresponding to the best model based on the sum of R-squared values for CO2 emissions and fuel consumption\n",
        "best_model = res_df.iloc[res_df[['R2_CO2', 'R2_Fuel']].sum(axis=1).idxmax()]\n",
        "best_model\n",
        "# Note:\n",
        "# - The 'idxmax()' method returns the index of the first occurrence of the maximum value along the specified axis.\n",
        "# - The 'sum(axis=1)' method calculates the sum of R-squared values for CO2 emissions and fuel consumption for each model.\n",
        "# - 'res_df[['R2_CO2', 'R2_Fuel']].sum(axis=1)' returns a Series containing the sum of R-squared values for each model.\n",
        "# - 'idxmax()' then returns the index corresponding to the row with the maximum sum of R-squared values.\n",
        "# - 'res_df.iloc[]' is used to select the row from the DataFrame based on the index returned by 'idxmax()'.\n",
        "# - The selected row represents the best model based on the sum of R-squared values for CO2 emissions and fuel consumption.\n"
      ]
    },
    {
      "cell_type": "markdown",
      "metadata": {
        "id": "432bd467"
      },
      "source": [
        "### Which vehicle characteristics have the most significant influence on CO2 emissions and fuel consumption."
      ]
    },
    {
      "cell_type": "code",
      "source": [
        "# Extract feature importances from the Random Forest model\n",
        "feature_importances = models_dict['Random Forest'].feature_importances_\n",
        "\n",
        "# Define more descriptive feature names\n",
        "features = ['Model year', 'Make', 'Model', 'Vehicle Class', 'Engine size', 'Cylinders',\n",
        "            'Transmission', 'Fuel Type', 'Vehicle Class Group']\n",
        "\n",
        "# Create a DataFrame to visualize the feature importances\n",
        "feature_importance_df = pd.DataFrame({'Feature': features, 'Importance Score': feature_importances})\n",
        "\n",
        "# Sort the DataFrame by the 'Importance Score' column in descending order\n",
        "feature_importance_df.sort_values(by='Importance Score', ascending=False, inplace=True)\n",
        "\n",
        "# Generate a bar plot for the feature importances\n",
        "plt.figure(figsize=(12, 5))\n",
        "plt.bar(feature_importance_df['Feature'], feature_importance_df['Importance Score'], color='skyblue')\n",
        "plt.title('Random Forest Feature Importance')\n",
        "plt.xlabel('Vehicle Specification')\n",
        "plt.ylabel('Importance Score')\n",
        "plt.xticks(rotation=45, ha='right')  # Rotate the x-axis labels for better readability\n",
        "plt.tight_layout()  # Adjust the layout to make sure everything fits without overlap\n",
        "plt.show()\n",
        "\n",
        "# Note:\n",
        "# - This code extracts feature importances from the Random Forest model and visualizes them using a bar plot.\n",
        "# - The feature importances are stored in a DataFrame for better visualization and sorting.\n",
        "# - Features are sorted in descending order based on their importance scores to show the most important features first.\n",
        "# - A bar plot is generated to display the feature importances, with the x-axis representing vehicle specifications\n",
        "#   and the y-axis representing the importance scores.\n",
        "# - The layout is adjusted to ensure readability and to prevent overlap of plot elements."
      ],
      "metadata": {
        "id": "JDZ6YCfqyV7k"
      },
      "execution_count": null,
      "outputs": []
    },
    {
      "cell_type": "markdown",
      "metadata": {
        "id": "aaf2692e"
      },
      "source": [
        "## Employing timeseries analysis for forecasting future CO2 emissions and fuel efficiency for Toyota."
      ]
    },
    {
      "cell_type": "code",
      "execution_count": null,
      "metadata": {
        "scrolled": false,
        "id": "d7467168"
      },
      "outputs": [],
      "source": [
        "# Filter the dataset to include only cars manufactured by Toyota\n",
        "filtered_df = data[data['make'] == 'Toyota']\n",
        "\n",
        "# Group the filtered data by year and calculate the mean CO2 emissions and combined fuel efficiency (MPG)\n",
        "# for Toyota cars in each year\n",
        "filtered_df = filtered_df.groupby(by='year')[['co2_emissions', 'combined_fuel_efficiency_mpg']].mean().reset_index()\n",
        "\n",
        "# Note:\n",
        "# - This code filters the dataset to include only cars manufactured by Toyota.\n",
        "# - The filtered data is then grouped by year using the 'groupby' method.\n",
        "# - For each year, the mean CO2 emissions and combined fuel efficiency (MPG) of Toyota cars are calculated.\n",
        "# - The 'reset_index()' method is used to reset the index of the resulting DataFrame.\n",
        "# - The resulting DataFrame contains the mean CO2 emissions and combined fuel efficiency (MPG) for Toyota cars\n",
        "#   in each year, making it suitable for further analysis or visualization."
      ]
    },
    {
      "cell_type": "code",
      "execution_count": null,
      "metadata": {
        "id": "f8d68736"
      },
      "outputs": [],
      "source": [
        "# Selecting the 'year' and 'co2_emissions' columns from the filtered DataFrame\n",
        "filtered_df[['year', 'co2_emissions']]\n",
        "\n",
        "# Note:\n",
        "# - This code selects the 'year' and 'co2_emissions' columns from the filtered DataFrame 'filtered_df'.\n",
        "# - The resulting DataFrame contains only these two columns, which represent the year and the corresponding CO2 emissions\n",
        "#   for Toyota cars.\n",
        "# - This selection might be used for further analysis or visualization specifically focusing on CO2 emissions over the years\n",
        "#   for Toyota cars."
      ]
    },
    {
      "cell_type": "code",
      "execution_count": null,
      "metadata": {
        "id": "5c748bca"
      },
      "outputs": [],
      "source": [
        "from prophet import Prophet\n",
        "from prophet.plot import plot"
      ]
    },
    {
      "cell_type": "code",
      "execution_count": null,
      "metadata": {
        "id": "265feaf1"
      },
      "outputs": [],
      "source": [
        "def prepare_data(df, target_column='co2_emissions'):\n",
        "    \"\"\"\n",
        "    Collects data for the target column and prepares it for Prophet forecasting.\n",
        "\n",
        "    Args:\n",
        "    - df: DataFrame containing 'year' and the target column\n",
        "    - target_column: Name of the target column\n",
        "\n",
        "    Returns:\n",
        "    - target_df: DataFrame suitable for Prophet modeling\n",
        "    \"\"\"\n",
        "    # Selecting 'year' and the target column and renaming them as 'ds' and 'y' for Prophet modeling\n",
        "    target_df = df[['year', target_column]].rename(columns={'year': 'ds', target_column: 'y'})\n",
        "    return target_df\n",
        "\n",
        "# Note:\n",
        "# - This function prepares data for Prophet forecasting by selecting the 'year' and the target column from the input DataFrame.\n",
        "# - It renames the columns as 'ds' (representing time) and 'y' (representing the target variable) to comply with Prophet's\n",
        "#   data format requirements.\n",
        "# - The resulting DataFrame 'target_df' is suitable for use in Prophet modeling for time series forecasting."
      ]
    },
    {
      "cell_type": "code",
      "execution_count": null,
      "metadata": {
        "id": "241e18be"
      },
      "outputs": [],
      "source": [
        "def train_prophet_model(data):\n",
        "    \"\"\"\n",
        "    Train a Facebook Prophet model.\n",
        "\n",
        "    Args:\n",
        "    - data: DataFrame with 'ds' and 'y' columns.\n",
        "\n",
        "    Returns:\n",
        "    - model: Trained Prophet model.\n",
        "    \"\"\"\n",
        "    # Initialize a Prophet model\n",
        "    model = Prophet()\n",
        "\n",
        "    # Fit the model to the data\n",
        "    model.fit(data)\n",
        "\n",
        "    # Return the trained Prophet model\n",
        "    return model\n",
        "\n",
        "# Note:\n",
        "# - This function trains a Facebook Prophet model on the provided DataFrame 'data' containing 'ds' (time) and 'y' (target) columns.\n",
        "# - It initializes a Prophet model object and fits it to the provided data.\n",
        "# - The trained Prophet model is returned for further use in forecasting."
      ]
    },
    {
      "cell_type": "code",
      "execution_count": null,
      "metadata": {
        "id": "15d39ea7"
      },
      "outputs": [],
      "source": [
        "def generate_forecast(df, model, end_year=2050):\n",
        "    \"\"\"\n",
        "    Generates a forecast for the target variable using the fitted Prophet model.\n",
        "\n",
        "    Args:\n",
        "    - model: Fitted Prophet model\n",
        "    - end_year: Year until which forecast is generated\n",
        "\n",
        "    Returns:\n",
        "    - forecast: DataFrame containing forecasted values\n",
        "    \"\"\"\n",
        "    # Find the last year in the dataset\n",
        "    last_year = df['year'].max()\n",
        "\n",
        "    # Create a DataFrame for future dates up to the specified end_year\n",
        "    future_years = list(range(last_year, end_year + 1))  # Years from the last year to end_year\n",
        "    future_df = pd.DataFrame({'ds': future_years})\n",
        "\n",
        "    # Generate the forecast using the fitted Prophet model\n",
        "    forecast = model.predict(future_df)\n",
        "\n",
        "    return forecast\n",
        "\n",
        "# Note:\n",
        "# - This function generates a forecast for the target variable using the fitted Prophet model.\n",
        "# - It first finds the last year in the provided DataFrame 'df'.\n",
        "# - Then, it creates a DataFrame 'future_df' containing future dates up to the specified 'end_year'.\n",
        "# - Finally, it generates the forecast using the fitted Prophet model for the future dates in 'future_df'.\n",
        "# - The forecasted values are returned as a DataFrame."
      ]
    },
    {
      "cell_type": "code",
      "execution_count": null,
      "metadata": {
        "id": "f49ecc6c"
      },
      "outputs": [],
      "source": [
        "def plot_forecast(model, forecast, target_column):\n",
        "    \"\"\"\n",
        "    Plots the Prophet forecast for the target variable.\n",
        "\n",
        "    Args:\n",
        "    - model: Fitted Prophet model\n",
        "    - forecast: DataFrame containing forecasted values\n",
        "    - target_column: Name of the target column\n",
        "    \"\"\"\n",
        "    # Plot the Prophet forecast using the provided model and forecast DataFrame\n",
        "    fig = plot(model, forecast, figsize=(9, 5), include_legend=True)\n",
        "\n",
        "    # Format the target column name for better readability\n",
        "    target_column_str = ' '.join(target_column.split('_')).title()\n",
        "\n",
        "    # Set plot title, x-axis label, and y-axis label\n",
        "    plt.title('Forecast - {}'.format(target_column_str))\n",
        "    plt.xlabel('Year')\n",
        "    plt.ylabel(target_column)\n",
        "\n",
        "    # Display the plot\n",
        "    plt.show()\n",
        "\n",
        "# Note:\n",
        "# - This function plots the Prophet forecast for the target variable using the provided model and forecast DataFrame.\n",
        "# - It uses the 'plot' function from Prophet to generate the forecast plot.\n",
        "# - The target column name is formatted for better readability in the plot title.\n",
        "# - The plot title, x-axis label, and y-axis label are set accordingly.\n",
        "# - The generated plot is displayed."
      ]
    },
    {
      "cell_type": "code",
      "execution_count": null,
      "metadata": {
        "id": "e4640a80"
      },
      "outputs": [],
      "source": [
        "def get_forecast_results(target_variable, forecast):\n",
        "    \"\"\"\n",
        "    Retrieves the forecasted values.\n",
        "\n",
        "    Args:\n",
        "    - target_variable: Variable being forecasted\n",
        "    - forecast: DataFrame containing forecasted values\n",
        "\n",
        "    Returns:\n",
        "    - res: DataFrame containing forecasted values\n",
        "    \"\"\"\n",
        "    # Initialize an empty DataFrame to store the forecasted values\n",
        "    res = pd.DataFrame()\n",
        "\n",
        "    # Extract the year from the 'ds' column in the forecast DataFrame\n",
        "    res['year'] = forecast['ds'].dt.year\n",
        "\n",
        "    # Assign the forecasted values to the target variable in the result DataFrame\n",
        "    res[target_variable] = forecast['yhat']\n",
        "\n",
        "    # Return the DataFrame containing forecasted values\n",
        "    return res\n",
        "\n",
        "# Note:\n",
        "# - This function retrieves the forecasted values from the Prophet forecast DataFrame.\n",
        "# - It initializes an empty DataFrame 'res' to store the forecasted values.\n",
        "# - It extracts the year from the 'ds' column in the forecast DataFrame and assigns it to the 'year' column in 'res'.\n",
        "# - It assigns the forecasted values to the specified target variable column in 'res'.\n",
        "# - The resulting DataFrame 'res' contains the forecasted values for the specified target variable."
      ]
    },
    {
      "cell_type": "markdown",
      "metadata": {
        "id": "6f90f7a1"
      },
      "source": [
        "### Forecast CO2 Emissions"
      ]
    },
    {
      "cell_type": "code",
      "execution_count": null,
      "metadata": {
        "id": "6e34b63f"
      },
      "outputs": [],
      "source": [
        "target_column = 'co2_emissions'"
      ]
    },
    {
      "cell_type": "code",
      "execution_count": null,
      "metadata": {
        "id": "b50585cd"
      },
      "outputs": [],
      "source": [
        "# get target data\n",
        "target_data = prepare_data(filtered_df, target_column)\n",
        "\n",
        "# train a facebook prophet model\n",
        "model = train_prophet_model(target_data)\n",
        "\n",
        "# generate forecast using model\n",
        "forecast = generate_forecast(filtered_df, model)\n",
        "\n",
        "#plot model forecast\n",
        "plot_forecast(model, forecast, target_column)"
      ]
    },
    {
      "cell_type": "code",
      "execution_count": null,
      "metadata": {
        "id": "8ccba284"
      },
      "outputs": [],
      "source": [
        "# store co2_emissions forecast result\n",
        "co2_forecast_results = get_forecast_results('co2_emissions', forecast)\n",
        "co2_forecast_results.to_csv('co2_forecast_results.csv', index=False)\n",
        "co2_forecast_results.head()"
      ]
    },
    {
      "cell_type": "code",
      "execution_count": null,
      "metadata": {
        "id": "b587f4de"
      },
      "outputs": [],
      "source": [
        "# Create a bar plot to visualize the forecasted CO2 emissions over the years\n",
        "fig, ax = plt.subplots(figsize=(12,5))\n",
        "sns.barplot(data=co2_forecast_results, x='year', y='co2_emissions')\n",
        "\n",
        "# Rotate the x-axis labels for better readability\n",
        "plt.xticks(rotation=45, ha='right')\n",
        "\n",
        "# Set the plot title\n",
        "plt.title('Forecast of CO2 Emissions')\n",
        "\n",
        "# Display the plot\n",
        "plt.show()"
      ]
    },
    {
      "cell_type": "markdown",
      "metadata": {
        "id": "11a2e118"
      },
      "source": [
        "### Forecast  Fuel Efficiency"
      ]
    },
    {
      "cell_type": "code",
      "execution_count": null,
      "metadata": {
        "id": "77b30036"
      },
      "outputs": [],
      "source": [
        "target_column = 'combined_fuel_efficiency_mpg'"
      ]
    },
    {
      "cell_type": "code",
      "execution_count": null,
      "metadata": {
        "scrolled": false,
        "id": "d7e9a846"
      },
      "outputs": [],
      "source": [
        "# get target data\n",
        "target_data = prepare_data(filtered_df, target_column)\n",
        "\n",
        "# train a facebook prophet model\n",
        "model = train_prophet_model(target_data)\n",
        "\n",
        "# generate forecast using model\n",
        "forecast = generate_forecast(filtered_df, model)\n",
        "\n",
        "#plot model forecast\n",
        "plot_forecast(model, forecast, target_column)"
      ]
    },
    {
      "cell_type": "code",
      "execution_count": null,
      "metadata": {
        "scrolled": true,
        "id": "52034632"
      },
      "outputs": [],
      "source": [
        "#store results\n",
        "fuel_eff_forecast_results = get_forecast_results('combined_fuel_efficiency_mpg', forecast)\n",
        "fuel_eff_forecast_results.to_csv('fuel_efficiency_forecast_results.csv', index=False)\n",
        "fuel_eff_forecast_results.head()"
      ]
    },
    {
      "cell_type": "code",
      "execution_count": null,
      "metadata": {
        "id": "60b5291a"
      },
      "outputs": [],
      "source": [
        "# Create a bar plot to visualize the forecasted combined fuel efficiency over the years\n",
        "fig, ax = plt.subplots(figsize=(12,5))\n",
        "sns.barplot(data=fuel_eff_forecast_results, x='year', y='combined_fuel_efficiency_mpg')\n",
        "\n",
        "# Rotate the x-axis labels for better readability\n",
        "plt.xticks(rotation=45, ha='right')\n",
        "\n",
        "# Set the plot title\n",
        "plt.title('Forecast of Fuel Efficiency')\n",
        "\n",
        "# Display the plot\n",
        "plt.show()"
      ]
    }
  ]
}